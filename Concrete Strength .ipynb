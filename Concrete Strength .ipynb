{
 "cells": [
  {
   "cell_type": "markdown",
   "metadata": {},
   "source": [
    "# Compresive Strength Concrete Problem"
   ]
  },
  {
   "cell_type": "code",
   "execution_count": 1,
   "metadata": {},
   "outputs": [],
   "source": [
    "import pandas as pd\n",
    "import numpy as np\n",
    "import matplotlib.pyplot as plt\n",
    "import seaborn as sns\n",
    "from tensorflow.keras.models import Sequential\n",
    "from tensorflow.keras.layers import Dense,Dropout\n",
    "from sklearn.model_selection import train_test_split\n",
    "from tensorflow.keras import optimizers"
   ]
  },
  {
   "cell_type": "markdown",
   "metadata": {},
   "source": [
    "# Load Data:\n",
    "[Click Here to Download DataSet](https://github.com/ramsha275/ML_Datasets/blob/main/compresive_strength_concrete.csv)"
   ]
  },
  {
   "cell_type": "code",
   "execution_count": 2,
   "metadata": {},
   "outputs": [
    {
     "data": {
      "text/html": [
       "<div>\n",
       "<style scoped>\n",
       "    .dataframe tbody tr th:only-of-type {\n",
       "        vertical-align: middle;\n",
       "    }\n",
       "\n",
       "    .dataframe tbody tr th {\n",
       "        vertical-align: top;\n",
       "    }\n",
       "\n",
       "    .dataframe thead th {\n",
       "        text-align: right;\n",
       "    }\n",
       "</style>\n",
       "<table border=\"1\" class=\"dataframe\">\n",
       "  <thead>\n",
       "    <tr style=\"text-align: right;\">\n",
       "      <th></th>\n",
       "      <th>Cement (component 1)(kg in a m^3 mixture)</th>\n",
       "      <th>Blast Furnace Slag (component 2)(kg in a m^3 mixture)</th>\n",
       "      <th>Fly Ash (component 3)(kg in a m^3 mixture)</th>\n",
       "      <th>Water  (component 4)(kg in a m^3 mixture)</th>\n",
       "      <th>Superplasticizer (component 5)(kg in a m^3 mixture)</th>\n",
       "      <th>Coarse Aggregate  (component 6)(kg in a m^3 mixture)</th>\n",
       "      <th>Fine Aggregate (component 7)(kg in a m^3 mixture)</th>\n",
       "      <th>Age (day)</th>\n",
       "      <th>Concrete compressive strength(MPa, megapascals)</th>\n",
       "    </tr>\n",
       "  </thead>\n",
       "  <tbody>\n",
       "    <tr>\n",
       "      <th>0</th>\n",
       "      <td>540.0</td>\n",
       "      <td>0.0</td>\n",
       "      <td>0.0</td>\n",
       "      <td>162.0</td>\n",
       "      <td>2.5</td>\n",
       "      <td>1040.0</td>\n",
       "      <td>676.0</td>\n",
       "      <td>28</td>\n",
       "      <td>79.99</td>\n",
       "    </tr>\n",
       "    <tr>\n",
       "      <th>1</th>\n",
       "      <td>540.0</td>\n",
       "      <td>0.0</td>\n",
       "      <td>0.0</td>\n",
       "      <td>162.0</td>\n",
       "      <td>2.5</td>\n",
       "      <td>1055.0</td>\n",
       "      <td>676.0</td>\n",
       "      <td>28</td>\n",
       "      <td>61.89</td>\n",
       "    </tr>\n",
       "    <tr>\n",
       "      <th>2</th>\n",
       "      <td>332.5</td>\n",
       "      <td>142.5</td>\n",
       "      <td>0.0</td>\n",
       "      <td>228.0</td>\n",
       "      <td>0.0</td>\n",
       "      <td>932.0</td>\n",
       "      <td>594.0</td>\n",
       "      <td>270</td>\n",
       "      <td>40.27</td>\n",
       "    </tr>\n",
       "    <tr>\n",
       "      <th>3</th>\n",
       "      <td>332.5</td>\n",
       "      <td>142.5</td>\n",
       "      <td>0.0</td>\n",
       "      <td>228.0</td>\n",
       "      <td>0.0</td>\n",
       "      <td>932.0</td>\n",
       "      <td>594.0</td>\n",
       "      <td>365</td>\n",
       "      <td>41.05</td>\n",
       "    </tr>\n",
       "    <tr>\n",
       "      <th>4</th>\n",
       "      <td>198.6</td>\n",
       "      <td>132.4</td>\n",
       "      <td>0.0</td>\n",
       "      <td>192.0</td>\n",
       "      <td>0.0</td>\n",
       "      <td>978.4</td>\n",
       "      <td>825.5</td>\n",
       "      <td>360</td>\n",
       "      <td>44.30</td>\n",
       "    </tr>\n",
       "  </tbody>\n",
       "</table>\n",
       "</div>"
      ],
      "text/plain": [
       "   Cement (component 1)(kg in a m^3 mixture)  \\\n",
       "0                                      540.0   \n",
       "1                                      540.0   \n",
       "2                                      332.5   \n",
       "3                                      332.5   \n",
       "4                                      198.6   \n",
       "\n",
       "   Blast Furnace Slag (component 2)(kg in a m^3 mixture)  \\\n",
       "0                                                0.0       \n",
       "1                                                0.0       \n",
       "2                                              142.5       \n",
       "3                                              142.5       \n",
       "4                                              132.4       \n",
       "\n",
       "   Fly Ash (component 3)(kg in a m^3 mixture)  \\\n",
       "0                                         0.0   \n",
       "1                                         0.0   \n",
       "2                                         0.0   \n",
       "3                                         0.0   \n",
       "4                                         0.0   \n",
       "\n",
       "   Water  (component 4)(kg in a m^3 mixture)  \\\n",
       "0                                      162.0   \n",
       "1                                      162.0   \n",
       "2                                      228.0   \n",
       "3                                      228.0   \n",
       "4                                      192.0   \n",
       "\n",
       "   Superplasticizer (component 5)(kg in a m^3 mixture)  \\\n",
       "0                                                2.5     \n",
       "1                                                2.5     \n",
       "2                                                0.0     \n",
       "3                                                0.0     \n",
       "4                                                0.0     \n",
       "\n",
       "   Coarse Aggregate  (component 6)(kg in a m^3 mixture)  \\\n",
       "0                                             1040.0      \n",
       "1                                             1055.0      \n",
       "2                                              932.0      \n",
       "3                                              932.0      \n",
       "4                                              978.4      \n",
       "\n",
       "   Fine Aggregate (component 7)(kg in a m^3 mixture)  Age (day)  \\\n",
       "0                                              676.0         28   \n",
       "1                                              676.0         28   \n",
       "2                                              594.0        270   \n",
       "3                                              594.0        365   \n",
       "4                                              825.5        360   \n",
       "\n",
       "   Concrete compressive strength(MPa, megapascals)   \n",
       "0                                             79.99  \n",
       "1                                             61.89  \n",
       "2                                             40.27  \n",
       "3                                             41.05  \n",
       "4                                             44.30  "
      ]
     },
     "execution_count": 2,
     "metadata": {},
     "output_type": "execute_result"
    }
   ],
   "source": [
    "concrete_strength = pd.read_csv('compresive_strength_concrete.csv')\n",
    "concrete_strength.head()"
   ]
  },
  {
   "cell_type": "markdown",
   "metadata": {},
   "source": [
    "# Check the shape of data"
   ]
  },
  {
   "cell_type": "code",
   "execution_count": 3,
   "metadata": {},
   "outputs": [
    {
     "name": "stdout",
     "output_type": "stream",
     "text": [
      "Shape of concrete Strength: (1030, 9)\n"
     ]
    }
   ],
   "source": [
    "print(f'Shape of concrete Strength: {concrete_strength.shape}')"
   ]
  },
  {
   "cell_type": "code",
   "execution_count": 24,
   "metadata": {},
   "outputs": [
    {
     "name": "stdout",
     "output_type": "stream",
     "text": [
      "<class 'pandas.core.frame.DataFrame'>\n",
      "RangeIndex: 1030 entries, 0 to 1029\n",
      "Data columns (total 9 columns):\n",
      " #   Column                                                 Non-Null Count  Dtype  \n",
      "---  ------                                                 --------------  -----  \n",
      " 0   Cement (component 1)(kg in a m^3 mixture)              1030 non-null   float64\n",
      " 1   Blast Furnace Slag (component 2)(kg in a m^3 mixture)  1030 non-null   float64\n",
      " 2   Fly Ash (component 3)(kg in a m^3 mixture)             1030 non-null   float64\n",
      " 3   Water  (component 4)(kg in a m^3 mixture)              1030 non-null   float64\n",
      " 4   Superplasticizer (component 5)(kg in a m^3 mixture)    1030 non-null   float64\n",
      " 5   Coarse Aggregate  (component 6)(kg in a m^3 mixture)   1030 non-null   float64\n",
      " 6   Fine Aggregate (component 7)(kg in a m^3 mixture)      1030 non-null   float64\n",
      " 7   Age (day)                                              1030 non-null   int64  \n",
      " 8   Concrete compressive strength(MPa, megapascals)        1030 non-null   float64\n",
      "dtypes: float64(8), int64(1)\n",
      "memory usage: 72.5 KB\n"
     ]
    }
   ],
   "source": [
    "concrete_strength.info()"
   ]
  },
  {
   "cell_type": "markdown",
   "metadata": {},
   "source": [
    "# check null values"
   ]
  },
  {
   "cell_type": "code",
   "execution_count": 25,
   "metadata": {},
   "outputs": [
    {
     "data": {
      "text/plain": [
       "Cement (component 1)(kg in a m^3 mixture)                0\n",
       "Blast Furnace Slag (component 2)(kg in a m^3 mixture)    0\n",
       "Fly Ash (component 3)(kg in a m^3 mixture)               0\n",
       "Water  (component 4)(kg in a m^3 mixture)                0\n",
       "Superplasticizer (component 5)(kg in a m^3 mixture)      0\n",
       "Coarse Aggregate  (component 6)(kg in a m^3 mixture)     0\n",
       "Fine Aggregate (component 7)(kg in a m^3 mixture)        0\n",
       "Age (day)                                                0\n",
       "Concrete compressive strength(MPa, megapascals)          0\n",
       "dtype: int64"
      ]
     },
     "execution_count": 25,
     "metadata": {},
     "output_type": "execute_result"
    }
   ],
   "source": [
    "concrete_strength.isnull().sum()"
   ]
  },
  {
   "cell_type": "markdown",
   "metadata": {},
   "source": [
    "# check duplicate rows"
   ]
  },
  {
   "cell_type": "code",
   "execution_count": 41,
   "metadata": {},
   "outputs": [
    {
     "data": {
      "text/plain": [
       "25"
      ]
     },
     "execution_count": 41,
     "metadata": {},
     "output_type": "execute_result"
    }
   ],
   "source": [
    "concrete_strength.duplicated().sum()"
   ]
  },
  {
   "cell_type": "markdown",
   "metadata": {},
   "source": [
    "# `There are 25 rows which are duplicated`\n",
    "# Remove them"
   ]
  },
  {
   "cell_type": "code",
   "execution_count": 42,
   "metadata": {},
   "outputs": [],
   "source": [
    "concrete_strength.drop_duplicates(inplace = True)"
   ]
  },
  {
   "cell_type": "markdown",
   "metadata": {},
   "source": [
    "# now again check the shape of concrete strength"
   ]
  },
  {
   "cell_type": "code",
   "execution_count": 43,
   "metadata": {},
   "outputs": [
    {
     "name": "stdout",
     "output_type": "stream",
     "text": [
      "Shape of concrete Strength --> (1005, 9)\n"
     ]
    }
   ],
   "source": [
    "print(f'Shape of concrete Strength --> {concrete_strength.shape}')"
   ]
  },
  {
   "cell_type": "markdown",
   "metadata": {},
   "source": [
    "# split the columns for input and ouput"
   ]
  },
  {
   "cell_type": "code",
   "execution_count": 44,
   "metadata": {},
   "outputs": [],
   "source": [
    "data = concrete_strength.loc[:,concrete_strength.columns != 'Concrete compressive strength(MPa, megapascals) ']\n",
    "target = concrete_strength.loc[:,concrete_strength.columns == 'Concrete compressive strength(MPa, megapascals) ']"
   ]
  },
  {
   "cell_type": "code",
   "execution_count": 45,
   "metadata": {},
   "outputs": [
    {
     "name": "stdout",
     "output_type": "stream",
     "text": [
      "shape of target --> (1005, 1) \n",
      "shape of data --> (1005, 8)\n"
     ]
    }
   ],
   "source": [
    "print(f'shape of target --> {target.shape} \\nshape of data --> {data.shape}')"
   ]
  },
  {
   "cell_type": "markdown",
   "metadata": {},
   "source": [
    "# centeralized the data"
   ]
  },
  {
   "cell_type": "code",
   "execution_count": 46,
   "metadata": {},
   "outputs": [],
   "source": [
    "mean = data.mean(axis = 0)\n",
    "data -= mean\n",
    "std = data.std(axis = 0)\n",
    "data /= std"
   ]
  },
  {
   "cell_type": "markdown",
   "metadata": {},
   "source": [
    "# now split the data for training and testing"
   ]
  },
  {
   "cell_type": "code",
   "execution_count": 47,
   "metadata": {},
   "outputs": [],
   "source": [
    "x_train, x_test, y_train, y_test = train_test_split(data,target, test_size=0.3, random_state=42)"
   ]
  },
  {
   "cell_type": "code",
   "execution_count": 48,
   "metadata": {},
   "outputs": [
    {
     "name": "stdout",
     "output_type": "stream",
     "text": [
      "shape of x_train --> (703, 8)\n",
      "shape of y_train --> (703, 1)\n",
      "shape of x_test --> (302, 8)\n",
      "shape of test --> (302, 1)\n"
     ]
    }
   ],
   "source": [
    "print(f'''shape of x_train --> {x_train.shape}\n",
    "shape of y_train --> {y_train.shape}\n",
    "shape of x_test --> {x_test.shape}\n",
    "shape of test --> {y_test.shape}''')"
   ]
  },
  {
   "cell_type": "code",
   "execution_count": 49,
   "metadata": {},
   "outputs": [
    {
     "data": {
      "text/plain": [
       "pandas.core.frame.DataFrame"
      ]
     },
     "execution_count": 49,
     "metadata": {},
     "output_type": "execute_result"
    }
   ],
   "source": [
    "type(x_train)"
   ]
  },
  {
   "cell_type": "markdown",
   "metadata": {},
   "source": [
    "# covert them into array"
   ]
  },
  {
   "cell_type": "code",
   "execution_count": 50,
   "metadata": {},
   "outputs": [],
   "source": [
    "x_train = np.asarray(x_train).astype('float32')\n",
    "y_train = np.asarray(y_train).astype('float32')\n",
    "x_test = np.asarray(x_test).astype('float32')\n",
    "y_test = np.asarray(y_test).astype('float32')"
   ]
  },
  {
   "cell_type": "code",
   "execution_count": 51,
   "metadata": {},
   "outputs": [
    {
     "data": {
      "text/plain": [
       "numpy.ndarray"
      ]
     },
     "execution_count": 51,
     "metadata": {},
     "output_type": "execute_result"
    }
   ],
   "source": [
    "type(x_train)"
   ]
  },
  {
   "cell_type": "markdown",
   "metadata": {},
   "source": [
    "# split x_train for training and validation"
   ]
  },
  {
   "cell_type": "code",
   "execution_count": 52,
   "metadata": {},
   "outputs": [],
   "source": [
    "partial_x_train = x_train[200:]\n",
    "partial_y_train = y_train[200:]\n",
    "x_val = x_train[:200]\n",
    "y_val = y_train[:200]"
   ]
  },
  {
   "cell_type": "markdown",
   "metadata": {},
   "source": [
    "# make a model"
   ]
  },
  {
   "cell_type": "code",
   "execution_count": 87,
   "metadata": {},
   "outputs": [],
   "source": [
    "def build_model():\n",
    "    model = Sequential()\n",
    "    model.add(Dense(10, activation = 'relu', input_shape = (x_train.shape[1],)))\n",
    "    model.add(Dropout(0.3))\n",
    "    model.add(Dense(8, activation = 'relu'))\n",
    "    model.add(Dense(1))\n",
    "    model.compile(optimizer = optimizers.RMSprop(lr=0.004),\n",
    "                  loss = 'mse',\n",
    "                  metrics = ['mae'])\n",
    "    return model"
   ]
  },
  {
   "cell_type": "code",
   "execution_count": 90,
   "metadata": {},
   "outputs": [
    {
     "name": "stderr",
     "output_type": "stream",
     "text": [
      "C:\\Users\\ashar\\Anaconda3\\lib\\site-packages\\tensorflow\\python\\keras\\optimizer_v2\\optimizer_v2.py:374: UserWarning: The `lr` argument is deprecated, use `learning_rate` instead.\n",
      "  warnings.warn(\n"
     ]
    },
    {
     "name": "stdout",
     "output_type": "stream",
     "text": [
      "Epoch 1/100\n",
      "503/503 [==============================] - 2s 2ms/step - loss: 929.8603 - mae: 25.2837 - val_loss: 423.8294 - val_mae: 15.9200\n",
      "Epoch 2/100\n",
      "503/503 [==============================] - 1s 1ms/step - loss: 314.3340 - mae: 13.7467 - val_loss: 173.8135 - val_mae: 10.2944\n",
      "Epoch 3/100\n",
      "503/503 [==============================] - 1s 1ms/step - loss: 198.0661 - mae: 10.6901 - val_loss: 163.1886 - val_mae: 9.9170\n",
      "Epoch 4/100\n",
      "503/503 [==============================] - ETA: 0s - loss: 172.6190 - mae: 10.04 - 1s 1ms/step - loss: 190.5922 - mae: 10.2520 - val_loss: 190.2631 - val_mae: 9.7118\n",
      "Epoch 5/100\n",
      "503/503 [==============================] - 1s 1ms/step - loss: 162.7133 - mae: 9.6321 - val_loss: 167.4626 - val_mae: 9.1708\n",
      "Epoch 6/100\n",
      "503/503 [==============================] - 1s 1ms/step - loss: 156.7631 - mae: 9.4284 - val_loss: 142.2316 - val_mae: 8.4364\n",
      "Epoch 7/100\n",
      "503/503 [==============================] - 1s 1ms/step - loss: 145.8902 - mae: 9.0043 - val_loss: 128.1115 - val_mae: 8.4413\n",
      "Epoch 8/100\n",
      "503/503 [==============================] - 1s 1ms/step - loss: 137.0316 - mae: 8.6164 - val_loss: 122.7939 - val_mae: 7.9086\n",
      "Epoch 9/100\n",
      "503/503 [==============================] - 1s 1ms/step - loss: 121.9437 - mae: 8.2245 - val_loss: 117.4039 - val_mae: 7.9081\n",
      "Epoch 10/100\n",
      "503/503 [==============================] - 1s 1ms/step - loss: 125.3106 - mae: 8.4541 - val_loss: 112.2754 - val_mae: 7.5137\n",
      "Epoch 11/100\n",
      "503/503 [==============================] - 1s 1ms/step - loss: 106.7393 - mae: 7.5832 - val_loss: 107.7207 - val_mae: 7.2789\n",
      "Epoch 12/100\n",
      "503/503 [==============================] - 1s 1ms/step - loss: 105.3719 - mae: 7.7215 - val_loss: 99.3448 - val_mae: 7.2306\n",
      "Epoch 13/100\n",
      "503/503 [==============================] - 1s 1ms/step - loss: 95.4501 - mae: 7.3562 - val_loss: 104.4888 - val_mae: 7.1487\n",
      "Epoch 14/100\n",
      "503/503 [==============================] - 1s 1ms/step - loss: 100.5462 - mae: 7.3571 - val_loss: 95.7788 - val_mae: 7.4060\n",
      "Epoch 15/100\n",
      "503/503 [==============================] - 1s 1ms/step - loss: 99.9935 - mae: 7.5746 - val_loss: 90.7285 - val_mae: 6.9319\n",
      "Epoch 16/100\n",
      "503/503 [==============================] - 1s 1ms/step - loss: 94.4998 - mae: 7.2738 - val_loss: 91.5976 - val_mae: 6.9767\n",
      "Epoch 17/100\n",
      "503/503 [==============================] - 1s 1ms/step - loss: 92.5570 - mae: 7.2107 - val_loss: 97.2192 - val_mae: 7.0915\n",
      "Epoch 18/100\n",
      "503/503 [==============================] - 1s 1ms/step - loss: 97.0509 - mae: 7.3622 - val_loss: 84.3104 - val_mae: 6.9791\n",
      "Epoch 19/100\n",
      "503/503 [==============================] - 1s 1ms/step - loss: 87.0238 - mae: 7.0862 - val_loss: 98.5671 - val_mae: 7.6646\n",
      "Epoch 20/100\n",
      "503/503 [==============================] - 1s 1ms/step - loss: 92.7471 - mae: 7.2646 - val_loss: 83.2050 - val_mae: 6.8050\n",
      "Epoch 21/100\n",
      "503/503 [==============================] - 1s 1ms/step - loss: 86.3449 - mae: 6.9337 - val_loss: 82.2172 - val_mae: 6.7578\n",
      "Epoch 22/100\n",
      "503/503 [==============================] - 1s 1ms/step - loss: 89.9152 - mae: 7.1465 - val_loss: 80.7384 - val_mae: 6.7036\n",
      "Epoch 23/100\n",
      "503/503 [==============================] - 1s 1ms/step - loss: 84.2909 - mae: 6.7795 - val_loss: 79.1498 - val_mae: 6.5588\n",
      "Epoch 24/100\n",
      "503/503 [==============================] - 1s 1ms/step - loss: 91.1319 - mae: 7.0469 - val_loss: 77.7047 - val_mae: 6.4671\n",
      "Epoch 25/100\n",
      "503/503 [==============================] - 1s 1ms/step - loss: 85.7428 - mae: 6.9717 - val_loss: 77.4128 - val_mae: 6.7406\n",
      "Epoch 26/100\n",
      "503/503 [==============================] - 1s 1ms/step - loss: 69.7714 - mae: 6.3093 - val_loss: 87.3299 - val_mae: 6.9851\n",
      "Epoch 27/100\n",
      "503/503 [==============================] - 1s 1ms/step - loss: 80.4194 - mae: 6.5813 - val_loss: 83.8576 - val_mae: 6.7309\n",
      "Epoch 28/100\n",
      "503/503 [==============================] - 1s 1ms/step - loss: 86.4414 - mae: 6.8966 - val_loss: 89.8158 - val_mae: 7.0990\n",
      "Epoch 29/100\n",
      "503/503 [==============================] - 1s 1ms/step - loss: 85.3809 - mae: 6.8321 - val_loss: 72.3623 - val_mae: 6.3602\n",
      "Epoch 30/100\n",
      "503/503 [==============================] - 1s 1ms/step - loss: 83.9062 - mae: 6.8742 - val_loss: 76.4200 - val_mae: 6.4847\n",
      "Epoch 31/100\n",
      "503/503 [==============================] - 1s 1ms/step - loss: 83.2599 - mae: 6.9136 - val_loss: 76.6357 - val_mae: 6.5242\n",
      "Epoch 32/100\n",
      "503/503 [==============================] - 1s 1ms/step - loss: 84.5509 - mae: 6.8347 - val_loss: 79.5182 - val_mae: 6.5399\n",
      "Epoch 33/100\n",
      "503/503 [==============================] - 1s 1ms/step - loss: 84.4404 - mae: 6.8089 - val_loss: 86.1764 - val_mae: 6.6621\n",
      "Epoch 34/100\n",
      "503/503 [==============================] - 1s 1ms/step - loss: 74.7656 - mae: 6.4701 - val_loss: 108.0570 - val_mae: 7.0338\n",
      "Epoch 35/100\n",
      "503/503 [==============================] - 1s 1ms/step - loss: 80.5981 - mae: 6.7132 - val_loss: 75.2258 - val_mae: 6.4615\n",
      "Epoch 36/100\n",
      "503/503 [==============================] - 1s 1ms/step - loss: 78.2219 - mae: 6.4783 - val_loss: 73.3507 - val_mae: 6.3857\n",
      "Epoch 37/100\n",
      "503/503 [==============================] - 1s 1ms/step - loss: 92.2072 - mae: 7.0271 - val_loss: 72.3888 - val_mae: 6.4472\n",
      "Epoch 38/100\n",
      "503/503 [==============================] - 1s 1ms/step - loss: 82.0538 - mae: 6.7744 - val_loss: 77.6072 - val_mae: 6.4342\n",
      "Epoch 39/100\n",
      "503/503 [==============================] - 1s 1ms/step - loss: 76.6722 - mae: 6.4169 - val_loss: 71.8848 - val_mae: 6.1381\n",
      "Epoch 40/100\n",
      "503/503 [==============================] - 1s 1ms/step - loss: 83.1268 - mae: 6.6402 - val_loss: 70.8490 - val_mae: 6.2890\n",
      "Epoch 41/100\n",
      "503/503 [==============================] - 1s 1ms/step - loss: 78.0897 - mae: 6.6838 - val_loss: 70.7545 - val_mae: 6.3076\n",
      "Epoch 42/100\n",
      "503/503 [==============================] - 1s 1ms/step - loss: 85.3455 - mae: 6.9214 - val_loss: 77.3193 - val_mae: 6.7787\n",
      "Epoch 43/100\n",
      "503/503 [==============================] - 1s 1ms/step - loss: 73.2190 - mae: 6.3535 - val_loss: 72.2487 - val_mae: 6.2872\n",
      "Epoch 44/100\n",
      "503/503 [==============================] - 1s 1ms/step - loss: 80.5784 - mae: 6.5894 - val_loss: 69.7300 - val_mae: 6.2118\n",
      "Epoch 45/100\n",
      "503/503 [==============================] - 1s 1ms/step - loss: 82.1205 - mae: 6.7802 - val_loss: 85.0158 - val_mae: 6.8384\n",
      "Epoch 46/100\n",
      "503/503 [==============================] - 1s 1ms/step - loss: 76.7658 - mae: 6.5465 - val_loss: 75.7256 - val_mae: 6.4360\n",
      "Epoch 47/100\n",
      "503/503 [==============================] - 1s 1ms/step - loss: 72.8030 - mae: 6.4109 - val_loss: 71.2930 - val_mae: 6.2554\n",
      "Epoch 48/100\n",
      "503/503 [==============================] - 1s 1ms/step - loss: 81.0358 - mae: 6.8714 - val_loss: 83.8838 - val_mae: 6.5928\n",
      "Epoch 49/100\n",
      "503/503 [==============================] - 1s 1ms/step - loss: 75.3259 - mae: 6.3766 - val_loss: 73.4962 - val_mae: 6.3054\n",
      "Epoch 50/100\n",
      "503/503 [==============================] - 1s 1ms/step - loss: 75.5461 - mae: 6.4564 - val_loss: 73.2928 - val_mae: 6.2592\n",
      "Epoch 51/100\n",
      "503/503 [==============================] - 1s 1ms/step - loss: 72.9656 - mae: 6.3068 - val_loss: 77.2319 - val_mae: 6.3631\n",
      "Epoch 52/100\n",
      "503/503 [==============================] - 1s 1ms/step - loss: 82.3380 - mae: 6.7441 - val_loss: 74.6146 - val_mae: 6.4142\n",
      "Epoch 53/100\n",
      "503/503 [==============================] - 1s 1ms/step - loss: 76.2354 - mae: 6.4558 - val_loss: 77.2901 - val_mae: 6.4415\n",
      "Epoch 54/100\n",
      "503/503 [==============================] - 1s 1ms/step - loss: 70.4059 - mae: 6.1981 - val_loss: 70.7629 - val_mae: 6.2278\n",
      "Epoch 55/100\n",
      "503/503 [==============================] - 1s 1ms/step - loss: 72.9637 - mae: 6.4177 - val_loss: 83.8608 - val_mae: 6.7379\n",
      "Epoch 56/100\n",
      "503/503 [==============================] - 1s 1ms/step - loss: 75.5564 - mae: 6.4012 - val_loss: 67.9538 - val_mae: 6.1824\n",
      "Epoch 57/100\n",
      "503/503 [==============================] - 1s 1ms/step - loss: 78.6821 - mae: 6.6331 - val_loss: 71.3287 - val_mae: 6.2345\n",
      "Epoch 58/100\n",
      "503/503 [==============================] - 1s 1ms/step - loss: 82.5037 - mae: 6.6742 - val_loss: 69.3199 - val_mae: 6.2071\n",
      "Epoch 59/100\n",
      "503/503 [==============================] - 1s 1ms/step - loss: 78.6201 - mae: 6.6492 - val_loss: 73.5814 - val_mae: 6.4151\n",
      "Epoch 60/100\n",
      "503/503 [==============================] - 1s 1ms/step - loss: 70.8971 - mae: 6.2996 - val_loss: 71.6638 - val_mae: 6.2642\n"
     ]
    },
    {
     "name": "stdout",
     "output_type": "stream",
     "text": [
      "Epoch 61/100\n",
      "503/503 [==============================] - 1s 1ms/step - loss: 74.6037 - mae: 6.3511 - val_loss: 77.0808 - val_mae: 6.4745\n",
      "Epoch 62/100\n",
      "503/503 [==============================] - ETA: 0s - loss: 73.9493 - mae: 6.39 - 1s 1ms/step - loss: 73.3480 - mae: 6.3900 - val_loss: 72.7178 - val_mae: 6.3995\n",
      "Epoch 63/100\n",
      "503/503 [==============================] - 1s 2ms/step - loss: 71.4997 - mae: 6.3976 - val_loss: 79.6393 - val_mae: 6.7292\n",
      "Epoch 64/100\n",
      "503/503 [==============================] - 1s 2ms/step - loss: 75.2181 - mae: 6.3839 - val_loss: 77.0434 - val_mae: 6.5638\n",
      "Epoch 65/100\n",
      "503/503 [==============================] - 1s 2ms/step - loss: 71.7149 - mae: 6.2844 - val_loss: 73.5147 - val_mae: 6.5237\n",
      "Epoch 66/100\n",
      "503/503 [==============================] - 1s 1ms/step - loss: 76.2682 - mae: 6.4753 - val_loss: 76.7123 - val_mae: 6.5709\n",
      "Epoch 67/100\n",
      "503/503 [==============================] - 1s 2ms/step - loss: 69.4793 - mae: 6.1058 - val_loss: 72.1173 - val_mae: 6.4386\n",
      "Epoch 68/100\n",
      "503/503 [==============================] - 1s 1ms/step - loss: 68.0339 - mae: 6.1354 - val_loss: 72.7004 - val_mae: 6.4558\n",
      "Epoch 69/100\n",
      "503/503 [==============================] - 1s 2ms/step - loss: 69.9957 - mae: 6.0574 - val_loss: 77.9100 - val_mae: 6.7300\n",
      "Epoch 70/100\n",
      "503/503 [==============================] - 1s 1ms/step - loss: 69.8309 - mae: 6.3029 - val_loss: 76.8202 - val_mae: 6.5715\n",
      "Epoch 71/100\n",
      "503/503 [==============================] - 1s 1ms/step - loss: 69.7534 - mae: 6.2059 - val_loss: 76.1243 - val_mae: 6.8088\n",
      "Epoch 72/100\n",
      "503/503 [==============================] - 1s 1ms/step - loss: 71.7525 - mae: 6.2036 - val_loss: 77.2644 - val_mae: 6.9182\n",
      "Epoch 73/100\n",
      "503/503 [==============================] - 1s 1ms/step - loss: 79.3090 - mae: 6.5434 - val_loss: 82.5811 - val_mae: 7.0356\n",
      "Epoch 74/100\n",
      "503/503 [==============================] - 1s 1ms/step - loss: 68.6742 - mae: 6.0380 - val_loss: 78.6331 - val_mae: 6.6037\n",
      "Epoch 75/100\n",
      "503/503 [==============================] - 1s 1ms/step - loss: 71.2223 - mae: 6.2530 - val_loss: 91.5273 - val_mae: 7.0909\n",
      "Epoch 76/100\n",
      "503/503 [==============================] - 1s 1ms/step - loss: 69.7048 - mae: 6.0244 - val_loss: 71.0211 - val_mae: 6.3358\n",
      "Epoch 77/100\n",
      "503/503 [==============================] - 1s 1ms/step - loss: 72.4388 - mae: 6.3648 - val_loss: 69.6100 - val_mae: 6.3627\n",
      "Epoch 78/100\n",
      "503/503 [==============================] - 1s 1ms/step - loss: 71.5570 - mae: 6.2288 - val_loss: 67.1108 - val_mae: 6.3035\n",
      "Epoch 79/100\n",
      "503/503 [==============================] - 1s 1ms/step - loss: 65.7959 - mae: 6.1177 - val_loss: 71.3378 - val_mae: 6.6393\n",
      "Epoch 80/100\n",
      "503/503 [==============================] - 1s 1ms/step - loss: 63.3552 - mae: 5.8703 - val_loss: 68.9273 - val_mae: 6.4847\n",
      "Epoch 81/100\n",
      "503/503 [==============================] - 1s 1ms/step - loss: 69.6424 - mae: 6.1696 - val_loss: 68.5876 - val_mae: 6.5153\n",
      "Epoch 82/100\n",
      "503/503 [==============================] - 1s 1ms/step - loss: 70.3045 - mae: 6.2579 - val_loss: 69.5833 - val_mae: 6.4685\n",
      "Epoch 83/100\n",
      "503/503 [==============================] - 1s 1ms/step - loss: 67.0466 - mae: 6.1907 - val_loss: 77.4824 - val_mae: 6.7061\n",
      "Epoch 84/100\n",
      "503/503 [==============================] - 1s 1ms/step - loss: 67.1910 - mae: 6.1251 - val_loss: 66.5552 - val_mae: 6.2472\n",
      "Epoch 85/100\n",
      "503/503 [==============================] - 1s 1ms/step - loss: 74.8635 - mae: 6.2872 - val_loss: 74.4554 - val_mae: 6.8089\n",
      "Epoch 86/100\n",
      "503/503 [==============================] - 1s 1ms/step - loss: 79.5342 - mae: 6.5382 - val_loss: 84.4659 - val_mae: 7.1612\n",
      "Epoch 87/100\n",
      "503/503 [==============================] - 1s 1ms/step - loss: 70.2642 - mae: 6.2911 - val_loss: 75.8417 - val_mae: 6.7266\n",
      "Epoch 88/100\n",
      "503/503 [==============================] - 1s 1ms/step - loss: 71.9554 - mae: 6.3531 - val_loss: 89.5271 - val_mae: 7.1621\n",
      "Epoch 89/100\n",
      "503/503 [==============================] - 1s 1ms/step - loss: 72.9722 - mae: 6.4010 - val_loss: 83.0653 - val_mae: 7.0331\n",
      "Epoch 90/100\n",
      "503/503 [==============================] - 1s 1ms/step - loss: 69.2884 - mae: 6.1283 - val_loss: 78.5947 - val_mae: 7.0031\n",
      "Epoch 91/100\n",
      "503/503 [==============================] - 1s 1ms/step - loss: 69.0483 - mae: 6.1510 - val_loss: 74.0552 - val_mae: 6.6744\n",
      "Epoch 92/100\n",
      "503/503 [==============================] - 1s 1ms/step - loss: 72.4033 - mae: 6.1708 - val_loss: 76.3551 - val_mae: 6.8957\n",
      "Epoch 93/100\n",
      "503/503 [==============================] - 1s 1ms/step - loss: 78.7212 - mae: 6.4113 - val_loss: 83.1202 - val_mae: 7.0053\n",
      "Epoch 94/100\n",
      "503/503 [==============================] - 1s 1ms/step - loss: 67.4739 - mae: 6.0781 - val_loss: 76.4232 - val_mae: 6.8079\n",
      "Epoch 95/100\n",
      "503/503 [==============================] - 1s 2ms/step - loss: 64.4227 - mae: 5.8479 - val_loss: 78.9327 - val_mae: 6.8807\n",
      "Epoch 96/100\n",
      "503/503 [==============================] - 1s 1ms/step - loss: 70.7942 - mae: 6.1742 - val_loss: 95.7787 - val_mae: 7.3409\n",
      "Epoch 97/100\n",
      "503/503 [==============================] - 1s 1ms/step - loss: 68.5545 - mae: 6.0741 - val_loss: 85.5580 - val_mae: 6.8880\n",
      "Epoch 98/100\n",
      "503/503 [==============================] - 1s 2ms/step - loss: 69.8939 - mae: 6.3167 - val_loss: 68.5333 - val_mae: 6.4687\n",
      "Epoch 99/100\n",
      "503/503 [==============================] - 1s 1ms/step - loss: 79.9832 - mae: 6.5185 - val_loss: 84.4857 - val_mae: 7.1521\n",
      "Epoch 100/100\n",
      "503/503 [==============================] - 1s 1ms/step - loss: 77.3222 - mae: 6.5038 - val_loss: 79.7997 - val_mae: 6.8669\n"
     ]
    }
   ],
   "source": [
    "model = build_model()\n",
    "history = model.fit(partial_x_train, partial_y_train, epochs = 100,batch_size = 1, validation_data = (x_val,y_val))"
   ]
  },
  {
   "cell_type": "code",
   "execution_count": 108,
   "metadata": {},
   "outputs": [
    {
     "name": "stdout",
     "output_type": "stream",
     "text": [
      "10/10 [==============================] - 0s 3ms/step - loss: 89.6099 - mae: 7.4653\n"
     ]
    },
    {
     "data": {
      "text/plain": [
       "[89.60990142822266, 7.465301513671875]"
      ]
     },
     "execution_count": 108,
     "metadata": {},
     "output_type": "execute_result"
    }
   ],
   "source": [
    "model.evaluate(x_test, y_test)"
   ]
  },
  {
   "cell_type": "code",
   "execution_count": 112,
   "metadata": {},
   "outputs": [
    {
     "data": {
      "text/plain": [
       "array([26.274097], dtype=float32)"
      ]
     },
     "execution_count": 112,
     "metadata": {},
     "output_type": "execute_result"
    }
   ],
   "source": [
    "result = model.predict(x_test)\n",
    "result[1]"
   ]
  },
  {
   "cell_type": "markdown",
   "metadata": {},
   "source": [
    "# Graphical Representation of loss and mae "
   ]
  },
  {
   "cell_type": "code",
   "execution_count": 92,
   "metadata": {},
   "outputs": [
    {
     "data": {
      "text/plain": [
       "dict_keys(['loss', 'mae', 'val_loss', 'val_mae'])"
      ]
     },
     "execution_count": 92,
     "metadata": {},
     "output_type": "execute_result"
    }
   ],
   "source": [
    "history.history.keys()"
   ]
  },
  {
   "cell_type": "code",
   "execution_count": 98,
   "metadata": {},
   "outputs": [],
   "source": [
    "epochs = range(1, len(history.history['loss']) + 1)"
   ]
  },
  {
   "cell_type": "code",
   "execution_count": 106,
   "metadata": {},
   "outputs": [
    {
     "data": {
      "image/png": "[encoded data removed]",
      "text/plain": [
       "<Figure size 432x288 with 1 Axes>"
      ]
     },
     "metadata": {
      "needs_background": "light"
     },
     "output_type": "display_data"
    }
   ],
   "source": [
    "plt.plot(epochs, history.history['loss'], label = 'training loss')\n",
    "plt.plot(epochs, history.history['val_loss'], label = 'validation loss')\n",
    "plt.title('Training and Valiadtion Loss')\n",
    "plt.xlabel('epochs')\n",
    "plt.ylabel('loss')\n",
    "plt.legend()\n",
    "plt.grid()\n",
    "plt.show()"
   ]
  },
  {
   "cell_type": "code",
   "execution_count": 107,
   "metadata": {},
   "outputs": [
    {
     "data": {
      "image/png": "[encoded data removed]",
      "text/plain": [
       "<Figure size 432x288 with 1 Axes>"
      ]
     },
     "metadata": {
      "needs_background": "light"
     },
     "output_type": "display_data"
    }
   ],
   "source": [
    "plt.plot(epochs, history.history['mae'], label = 'training MAE')\n",
    "plt.plot(epochs, history.history['val_mae'], label = 'validation MAE')\n",
    "plt.title('Training and Valiadtion MAE')\n",
    "plt.xlabel('epochs')\n",
    "plt.ylabel('MAE')\n",
    "plt.legend()\n",
    "plt.grid()\n",
    "plt.show()"
   ]
  },
  {
   "cell_type": "code",
   "execution_count": 135,
   "metadata": {},
   "outputs": [
    {
     "data": {
      "image/png": "[encoded data removed]",
      "text/plain": [
       "<Figure size 432x288 with 1 Axes>"
      ]
     },
     "metadata": {
      "needs_background": "light"
     },
     "output_type": "display_data"
    }
   ],
   "source": [
    "plt.scatter(y_test, range(1, len(y_test)+1), color='green', marker = '*', s=70, label = 'original targets')\n",
    "plt.scatter(result, range(1, len(y_test)+1), color='red', marker = '^', s=70, label = 'Predicted targets')\n",
    "plt.title(\"Acutal and Predicted strength\")\n",
    "plt.xlabel('Concrete Strength')\n",
    "plt.legend()\n",
    "plt.grid()\n",
    "plt.show()"
   ]
  },
  {
   "cell_type": "code",
   "execution_count": 139,
   "metadata": {},
   "outputs": [
    {
     "data": {
      "image/png": "[encoded data removed]",
      "text/plain": [
       "<Figure size 1440x360 with 2 Axes>"
      ]
     },
     "metadata": {
      "needs_background": "light"
     },
     "output_type": "display_data"
    }
   ],
   "source": [
    "plt.figure(figsize=(20,5))\n",
    "plt.subplot(1, 2, 1 )\n",
    "plt.hist(y_test, color = 'red')\n",
    "plt.xlabel('original target value')\n",
    "plt.ylabel('count')\n",
    "plt.subplot(1, 2, 2)\n",
    "plt.hist(result, color = 'green')\n",
    "plt.xlabel('aggregated target value')\n",
    "plt.ylabel('count')\n",
    "plt.show()"
   ]
  },
  {
   "cell_type": "code",
   "execution_count": null,
   "metadata": {},
   "outputs": [],
   "source": []
  }
 ],
 "metadata": {
  "kernelspec": {
   "display_name": "Python 3",
   "language": "python",
   "name": "python3"
  },
  "language_info": {
   "codemirror_mode": {
    "name": "ipython",
    "version": 3
   },
   "file_extension": ".py",
   "mimetype": "text/x-python",
   "name": "python",
   "nbconvert_exporter": "python",
   "pygments_lexer": "ipython3",
   "version": "3.8.8"
  }
 },
 "nbformat": 4,
 "nbformat_minor": 2
}
