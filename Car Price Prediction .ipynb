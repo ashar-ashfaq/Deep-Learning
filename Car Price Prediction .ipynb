{
 "cells": [
  {
   "cell_type": "markdown",
   "metadata": {},
   "source": [
    "# Car Price Prediction::"
   ]
  },
  {
   "cell_type": "code",
   "execution_count": 1,
   "metadata": {},
   "outputs": [],
   "source": [
    "import pandas as pd\n",
    "import numpy as np\n",
    "import seaborn as sns\n",
    "import matplotlib.pyplot as plt\n",
    "from tensorflow.keras.models import Sequential\n",
    "from tensorflow.keras.layers import Dense"
   ]
  },
  {
   "cell_type": "markdown",
   "metadata": {},
   "source": [
    "# load the csv file \n",
    "\n",
    "Download dataset from this link:\n",
    "\n",
    "https://www.kaggle.com/hellbuoy/car-price-prediction"
   ]
  },
  {
   "cell_type": "code",
   "execution_count": 2,
   "metadata": {},
   "outputs": [
    {
     "data": {
      "text/html": [
       "<div>\n",
       "<style scoped>\n",
       "    .dataframe tbody tr th:only-of-type {\n",
       "        vertical-align: middle;\n",
       "    }\n",
       "\n",
       "    .dataframe tbody tr th {\n",
       "        vertical-align: top;\n",
       "    }\n",
       "\n",
       "    .dataframe thead th {\n",
       "        text-align: right;\n",
       "    }\n",
       "</style>\n",
       "<table border=\"1\" class=\"dataframe\">\n",
       "  <thead>\n",
       "    <tr style=\"text-align: right;\">\n",
       "      <th></th>\n",
       "      <th>car_ID</th>\n",
       "      <th>symboling</th>\n",
       "      <th>CarName</th>\n",
       "      <th>fueltype</th>\n",
       "      <th>aspiration</th>\n",
       "      <th>doornumber</th>\n",
       "      <th>carbody</th>\n",
       "      <th>drivewheel</th>\n",
       "      <th>enginelocation</th>\n",
       "      <th>wheelbase</th>\n",
       "      <th>...</th>\n",
       "      <th>enginesize</th>\n",
       "      <th>fuelsystem</th>\n",
       "      <th>boreratio</th>\n",
       "      <th>stroke</th>\n",
       "      <th>compressionratio</th>\n",
       "      <th>horsepower</th>\n",
       "      <th>peakrpm</th>\n",
       "      <th>citympg</th>\n",
       "      <th>highwaympg</th>\n",
       "      <th>price</th>\n",
       "    </tr>\n",
       "  </thead>\n",
       "  <tbody>\n",
       "    <tr>\n",
       "      <th>0</th>\n",
       "      <td>1</td>\n",
       "      <td>3</td>\n",
       "      <td>alfa-romero giulia</td>\n",
       "      <td>gas</td>\n",
       "      <td>std</td>\n",
       "      <td>two</td>\n",
       "      <td>convertible</td>\n",
       "      <td>rwd</td>\n",
       "      <td>front</td>\n",
       "      <td>88.6</td>\n",
       "      <td>...</td>\n",
       "      <td>130</td>\n",
       "      <td>mpfi</td>\n",
       "      <td>3.47</td>\n",
       "      <td>2.68</td>\n",
       "      <td>9.0</td>\n",
       "      <td>111</td>\n",
       "      <td>5000</td>\n",
       "      <td>21</td>\n",
       "      <td>27</td>\n",
       "      <td>13495.0</td>\n",
       "    </tr>\n",
       "    <tr>\n",
       "      <th>1</th>\n",
       "      <td>2</td>\n",
       "      <td>3</td>\n",
       "      <td>alfa-romero stelvio</td>\n",
       "      <td>gas</td>\n",
       "      <td>std</td>\n",
       "      <td>two</td>\n",
       "      <td>convertible</td>\n",
       "      <td>rwd</td>\n",
       "      <td>front</td>\n",
       "      <td>88.6</td>\n",
       "      <td>...</td>\n",
       "      <td>130</td>\n",
       "      <td>mpfi</td>\n",
       "      <td>3.47</td>\n",
       "      <td>2.68</td>\n",
       "      <td>9.0</td>\n",
       "      <td>111</td>\n",
       "      <td>5000</td>\n",
       "      <td>21</td>\n",
       "      <td>27</td>\n",
       "      <td>16500.0</td>\n",
       "    </tr>\n",
       "    <tr>\n",
       "      <th>2</th>\n",
       "      <td>3</td>\n",
       "      <td>1</td>\n",
       "      <td>alfa-romero Quadrifoglio</td>\n",
       "      <td>gas</td>\n",
       "      <td>std</td>\n",
       "      <td>two</td>\n",
       "      <td>hatchback</td>\n",
       "      <td>rwd</td>\n",
       "      <td>front</td>\n",
       "      <td>94.5</td>\n",
       "      <td>...</td>\n",
       "      <td>152</td>\n",
       "      <td>mpfi</td>\n",
       "      <td>2.68</td>\n",
       "      <td>3.47</td>\n",
       "      <td>9.0</td>\n",
       "      <td>154</td>\n",
       "      <td>5000</td>\n",
       "      <td>19</td>\n",
       "      <td>26</td>\n",
       "      <td>16500.0</td>\n",
       "    </tr>\n",
       "    <tr>\n",
       "      <th>3</th>\n",
       "      <td>4</td>\n",
       "      <td>2</td>\n",
       "      <td>audi 100 ls</td>\n",
       "      <td>gas</td>\n",
       "      <td>std</td>\n",
       "      <td>four</td>\n",
       "      <td>sedan</td>\n",
       "      <td>fwd</td>\n",
       "      <td>front</td>\n",
       "      <td>99.8</td>\n",
       "      <td>...</td>\n",
       "      <td>109</td>\n",
       "      <td>mpfi</td>\n",
       "      <td>3.19</td>\n",
       "      <td>3.40</td>\n",
       "      <td>10.0</td>\n",
       "      <td>102</td>\n",
       "      <td>5500</td>\n",
       "      <td>24</td>\n",
       "      <td>30</td>\n",
       "      <td>13950.0</td>\n",
       "    </tr>\n",
       "    <tr>\n",
       "      <th>4</th>\n",
       "      <td>5</td>\n",
       "      <td>2</td>\n",
       "      <td>audi 100ls</td>\n",
       "      <td>gas</td>\n",
       "      <td>std</td>\n",
       "      <td>four</td>\n",
       "      <td>sedan</td>\n",
       "      <td>4wd</td>\n",
       "      <td>front</td>\n",
       "      <td>99.4</td>\n",
       "      <td>...</td>\n",
       "      <td>136</td>\n",
       "      <td>mpfi</td>\n",
       "      <td>3.19</td>\n",
       "      <td>3.40</td>\n",
       "      <td>8.0</td>\n",
       "      <td>115</td>\n",
       "      <td>5500</td>\n",
       "      <td>18</td>\n",
       "      <td>22</td>\n",
       "      <td>17450.0</td>\n",
       "    </tr>\n",
       "  </tbody>\n",
       "</table>\n",
       "<p>5 rows × 26 columns</p>\n",
       "</div>"
      ],
      "text/plain": [
       "   car_ID  symboling                   CarName fueltype aspiration doornumber  \\\n",
       "0       1          3        alfa-romero giulia      gas        std        two   \n",
       "1       2          3       alfa-romero stelvio      gas        std        two   \n",
       "2       3          1  alfa-romero Quadrifoglio      gas        std        two   \n",
       "3       4          2               audi 100 ls      gas        std       four   \n",
       "4       5          2                audi 100ls      gas        std       four   \n",
       "\n",
       "       carbody drivewheel enginelocation  wheelbase  ...  enginesize  \\\n",
       "0  convertible        rwd          front       88.6  ...         130   \n",
       "1  convertible        rwd          front       88.6  ...         130   \n",
       "2    hatchback        rwd          front       94.5  ...         152   \n",
       "3        sedan        fwd          front       99.8  ...         109   \n",
       "4        sedan        4wd          front       99.4  ...         136   \n",
       "\n",
       "   fuelsystem  boreratio  stroke compressionratio horsepower  peakrpm citympg  \\\n",
       "0        mpfi       3.47    2.68              9.0        111     5000      21   \n",
       "1        mpfi       3.47    2.68              9.0        111     5000      21   \n",
       "2        mpfi       2.68    3.47              9.0        154     5000      19   \n",
       "3        mpfi       3.19    3.40             10.0        102     5500      24   \n",
       "4        mpfi       3.19    3.40              8.0        115     5500      18   \n",
       "\n",
       "   highwaympg    price  \n",
       "0          27  13495.0  \n",
       "1          27  16500.0  \n",
       "2          26  16500.0  \n",
       "3          30  13950.0  \n",
       "4          22  17450.0  \n",
       "\n",
       "[5 rows x 26 columns]"
      ]
     },
     "execution_count": 2,
     "metadata": {},
     "output_type": "execute_result"
    }
   ],
   "source": [
    "car_price = pd.read_csv('CarPrice_Assignment.csv')\n",
    "car_price.head()"
   ]
  },
  {
   "cell_type": "code",
   "execution_count": 3,
   "metadata": {},
   "outputs": [
    {
     "name": "stdout",
     "output_type": "stream",
     "text": [
      "shape of car price --> (205, 26) \n"
     ]
    }
   ],
   "source": [
    "print(f'shape of car price --> {car_price.shape} ')"
   ]
  },
  {
   "cell_type": "code",
   "execution_count": 4,
   "metadata": {},
   "outputs": [
    {
     "data": {
      "text/plain": [
       "Index(['car_ID', 'symboling', 'CarName', 'fueltype', 'aspiration',\n",
       "       'doornumber', 'carbody', 'drivewheel', 'enginelocation', 'wheelbase',\n",
       "       'carlength', 'carwidth', 'carheight', 'curbweight', 'enginetype',\n",
       "       'cylindernumber', 'enginesize', 'fuelsystem', 'boreratio', 'stroke',\n",
       "       'compressionratio', 'horsepower', 'peakrpm', 'citympg', 'highwaympg',\n",
       "       'price'],\n",
       "      dtype='object')"
      ]
     },
     "execution_count": 4,
     "metadata": {},
     "output_type": "execute_result"
    }
   ],
   "source": [
    "car_price.columns # check the columns name"
   ]
  },
  {
   "cell_type": "markdown",
   "metadata": {},
   "source": [
    "# check the null values"
   ]
  },
  {
   "cell_type": "code",
   "execution_count": 5,
   "metadata": {},
   "outputs": [
    {
     "data": {
      "text/plain": [
       "car_ID              0\n",
       "symboling           0\n",
       "CarName             0\n",
       "fueltype            0\n",
       "aspiration          0\n",
       "doornumber          0\n",
       "carbody             0\n",
       "drivewheel          0\n",
       "enginelocation      0\n",
       "wheelbase           0\n",
       "carlength           0\n",
       "carwidth            0\n",
       "carheight           0\n",
       "curbweight          0\n",
       "enginetype          0\n",
       "cylindernumber      0\n",
       "enginesize          0\n",
       "fuelsystem          0\n",
       "boreratio           0\n",
       "stroke              0\n",
       "compressionratio    0\n",
       "horsepower          0\n",
       "peakrpm             0\n",
       "citympg             0\n",
       "highwaympg          0\n",
       "price               0\n",
       "dtype: int64"
      ]
     },
     "execution_count": 5,
     "metadata": {},
     "output_type": "execute_result"
    }
   ],
   "source": [
    "car_price.isnull().sum()"
   ]
  },
  {
   "cell_type": "markdown",
   "metadata": {},
   "source": [
    "# check numercial and non-numerical columns "
   ]
  },
  {
   "cell_type": "code",
   "execution_count": 6,
   "metadata": {},
   "outputs": [
    {
     "name": "stdout",
     "output_type": "stream",
     "text": [
      "<class 'pandas.core.frame.DataFrame'>\n",
      "RangeIndex: 205 entries, 0 to 204\n",
      "Data columns (total 26 columns):\n",
      " #   Column            Non-Null Count  Dtype  \n",
      "---  ------            --------------  -----  \n",
      " 0   car_ID            205 non-null    int64  \n",
      " 1   symboling         205 non-null    int64  \n",
      " 2   CarName           205 non-null    object \n",
      " 3   fueltype          205 non-null    object \n",
      " 4   aspiration        205 non-null    object \n",
      " 5   doornumber        205 non-null    object \n",
      " 6   carbody           205 non-null    object \n",
      " 7   drivewheel        205 non-null    object \n",
      " 8   enginelocation    205 non-null    object \n",
      " 9   wheelbase         205 non-null    float64\n",
      " 10  carlength         205 non-null    float64\n",
      " 11  carwidth          205 non-null    float64\n",
      " 12  carheight         205 non-null    float64\n",
      " 13  curbweight        205 non-null    int64  \n",
      " 14  enginetype        205 non-null    object \n",
      " 15  cylindernumber    205 non-null    object \n",
      " 16  enginesize        205 non-null    int64  \n",
      " 17  fuelsystem        205 non-null    object \n",
      " 18  boreratio         205 non-null    float64\n",
      " 19  stroke            205 non-null    float64\n",
      " 20  compressionratio  205 non-null    float64\n",
      " 21  horsepower        205 non-null    int64  \n",
      " 22  peakrpm           205 non-null    int64  \n",
      " 23  citympg           205 non-null    int64  \n",
      " 24  highwaympg        205 non-null    int64  \n",
      " 25  price             205 non-null    float64\n",
      "dtypes: float64(8), int64(8), object(10)\n",
      "memory usage: 41.8+ KB\n"
     ]
    }
   ],
   "source": [
    "car_price.info()"
   ]
  },
  {
   "cell_type": "markdown",
   "metadata": {},
   "source": [
    "## convert non-numerical values into numerical values"
   ]
  },
  {
   "cell_type": "code",
   "execution_count": 7,
   "metadata": {},
   "outputs": [],
   "source": [
    "from sklearn.preprocessing import LabelEncoder\n",
    "\n",
    "labelencoder = LabelEncoder()\n",
    "car_price.fueltype = labelencoder.fit_transform(car_price.fueltype)\n",
    "car_price.aspiration = labelencoder.fit_transform(car_price.aspiration)\n",
    "car_price.carbody = labelencoder.fit_transform(car_price.carbody)\n",
    "car_price.drivewheel = labelencoder.fit_transform(car_price.drivewheel)\n",
    "car_price.enginelocation = labelencoder.fit_transform(car_price.enginelocation)\n",
    "car_price.fuelsystem = labelencoder.fit_transform(car_price.fuelsystem)\n",
    "car_price.doornumber = car_price.doornumber.map({'two':2, 'four':4})"
   ]
  },
  {
   "cell_type": "code",
   "execution_count": 8,
   "metadata": {},
   "outputs": [
    {
     "data": {
      "text/html": [
       "<div>\n",
       "<style scoped>\n",
       "    .dataframe tbody tr th:only-of-type {\n",
       "        vertical-align: middle;\n",
       "    }\n",
       "\n",
       "    .dataframe tbody tr th {\n",
       "        vertical-align: top;\n",
       "    }\n",
       "\n",
       "    .dataframe thead th {\n",
       "        text-align: right;\n",
       "    }\n",
       "</style>\n",
       "<table border=\"1\" class=\"dataframe\">\n",
       "  <thead>\n",
       "    <tr style=\"text-align: right;\">\n",
       "      <th></th>\n",
       "      <th>car_ID</th>\n",
       "      <th>symboling</th>\n",
       "      <th>CarName</th>\n",
       "      <th>fueltype</th>\n",
       "      <th>aspiration</th>\n",
       "      <th>doornumber</th>\n",
       "      <th>carbody</th>\n",
       "      <th>drivewheel</th>\n",
       "      <th>enginelocation</th>\n",
       "      <th>wheelbase</th>\n",
       "      <th>...</th>\n",
       "      <th>enginesize</th>\n",
       "      <th>fuelsystem</th>\n",
       "      <th>boreratio</th>\n",
       "      <th>stroke</th>\n",
       "      <th>compressionratio</th>\n",
       "      <th>horsepower</th>\n",
       "      <th>peakrpm</th>\n",
       "      <th>citympg</th>\n",
       "      <th>highwaympg</th>\n",
       "      <th>price</th>\n",
       "    </tr>\n",
       "  </thead>\n",
       "  <tbody>\n",
       "    <tr>\n",
       "      <th>0</th>\n",
       "      <td>1</td>\n",
       "      <td>3</td>\n",
       "      <td>alfa-romero giulia</td>\n",
       "      <td>1</td>\n",
       "      <td>0</td>\n",
       "      <td>2</td>\n",
       "      <td>0</td>\n",
       "      <td>2</td>\n",
       "      <td>0</td>\n",
       "      <td>88.6</td>\n",
       "      <td>...</td>\n",
       "      <td>130</td>\n",
       "      <td>5</td>\n",
       "      <td>3.47</td>\n",
       "      <td>2.68</td>\n",
       "      <td>9.0</td>\n",
       "      <td>111</td>\n",
       "      <td>5000</td>\n",
       "      <td>21</td>\n",
       "      <td>27</td>\n",
       "      <td>13495.0</td>\n",
       "    </tr>\n",
       "    <tr>\n",
       "      <th>1</th>\n",
       "      <td>2</td>\n",
       "      <td>3</td>\n",
       "      <td>alfa-romero stelvio</td>\n",
       "      <td>1</td>\n",
       "      <td>0</td>\n",
       "      <td>2</td>\n",
       "      <td>0</td>\n",
       "      <td>2</td>\n",
       "      <td>0</td>\n",
       "      <td>88.6</td>\n",
       "      <td>...</td>\n",
       "      <td>130</td>\n",
       "      <td>5</td>\n",
       "      <td>3.47</td>\n",
       "      <td>2.68</td>\n",
       "      <td>9.0</td>\n",
       "      <td>111</td>\n",
       "      <td>5000</td>\n",
       "      <td>21</td>\n",
       "      <td>27</td>\n",
       "      <td>16500.0</td>\n",
       "    </tr>\n",
       "    <tr>\n",
       "      <th>2</th>\n",
       "      <td>3</td>\n",
       "      <td>1</td>\n",
       "      <td>alfa-romero Quadrifoglio</td>\n",
       "      <td>1</td>\n",
       "      <td>0</td>\n",
       "      <td>2</td>\n",
       "      <td>2</td>\n",
       "      <td>2</td>\n",
       "      <td>0</td>\n",
       "      <td>94.5</td>\n",
       "      <td>...</td>\n",
       "      <td>152</td>\n",
       "      <td>5</td>\n",
       "      <td>2.68</td>\n",
       "      <td>3.47</td>\n",
       "      <td>9.0</td>\n",
       "      <td>154</td>\n",
       "      <td>5000</td>\n",
       "      <td>19</td>\n",
       "      <td>26</td>\n",
       "      <td>16500.0</td>\n",
       "    </tr>\n",
       "    <tr>\n",
       "      <th>3</th>\n",
       "      <td>4</td>\n",
       "      <td>2</td>\n",
       "      <td>audi 100 ls</td>\n",
       "      <td>1</td>\n",
       "      <td>0</td>\n",
       "      <td>4</td>\n",
       "      <td>3</td>\n",
       "      <td>1</td>\n",
       "      <td>0</td>\n",
       "      <td>99.8</td>\n",
       "      <td>...</td>\n",
       "      <td>109</td>\n",
       "      <td>5</td>\n",
       "      <td>3.19</td>\n",
       "      <td>3.40</td>\n",
       "      <td>10.0</td>\n",
       "      <td>102</td>\n",
       "      <td>5500</td>\n",
       "      <td>24</td>\n",
       "      <td>30</td>\n",
       "      <td>13950.0</td>\n",
       "    </tr>\n",
       "    <tr>\n",
       "      <th>4</th>\n",
       "      <td>5</td>\n",
       "      <td>2</td>\n",
       "      <td>audi 100ls</td>\n",
       "      <td>1</td>\n",
       "      <td>0</td>\n",
       "      <td>4</td>\n",
       "      <td>3</td>\n",
       "      <td>0</td>\n",
       "      <td>0</td>\n",
       "      <td>99.4</td>\n",
       "      <td>...</td>\n",
       "      <td>136</td>\n",
       "      <td>5</td>\n",
       "      <td>3.19</td>\n",
       "      <td>3.40</td>\n",
       "      <td>8.0</td>\n",
       "      <td>115</td>\n",
       "      <td>5500</td>\n",
       "      <td>18</td>\n",
       "      <td>22</td>\n",
       "      <td>17450.0</td>\n",
       "    </tr>\n",
       "  </tbody>\n",
       "</table>\n",
       "<p>5 rows × 26 columns</p>\n",
       "</div>"
      ],
      "text/plain": [
       "   car_ID  symboling                   CarName  fueltype  aspiration  \\\n",
       "0       1          3        alfa-romero giulia         1           0   \n",
       "1       2          3       alfa-romero stelvio         1           0   \n",
       "2       3          1  alfa-romero Quadrifoglio         1           0   \n",
       "3       4          2               audi 100 ls         1           0   \n",
       "4       5          2                audi 100ls         1           0   \n",
       "\n",
       "   doornumber  carbody  drivewheel  enginelocation  wheelbase  ...  \\\n",
       "0           2        0           2               0       88.6  ...   \n",
       "1           2        0           2               0       88.6  ...   \n",
       "2           2        2           2               0       94.5  ...   \n",
       "3           4        3           1               0       99.8  ...   \n",
       "4           4        3           0               0       99.4  ...   \n",
       "\n",
       "   enginesize  fuelsystem  boreratio  stroke compressionratio horsepower  \\\n",
       "0         130           5       3.47    2.68              9.0        111   \n",
       "1         130           5       3.47    2.68              9.0        111   \n",
       "2         152           5       2.68    3.47              9.0        154   \n",
       "3         109           5       3.19    3.40             10.0        102   \n",
       "4         136           5       3.19    3.40              8.0        115   \n",
       "\n",
       "   peakrpm  citympg  highwaympg    price  \n",
       "0     5000       21          27  13495.0  \n",
       "1     5000       21          27  16500.0  \n",
       "2     5000       19          26  16500.0  \n",
       "3     5500       24          30  13950.0  \n",
       "4     5500       18          22  17450.0  \n",
       "\n",
       "[5 rows x 26 columns]"
      ]
     },
     "execution_count": 8,
     "metadata": {},
     "output_type": "execute_result"
    }
   ],
   "source": [
    "car_price.head()"
   ]
  },
  {
   "cell_type": "code",
   "execution_count": 9,
   "metadata": {},
   "outputs": [
    {
     "name": "stdout",
     "output_type": "stream",
     "text": [
      "<class 'pandas.core.frame.DataFrame'>\n",
      "RangeIndex: 205 entries, 0 to 204\n",
      "Data columns (total 26 columns):\n",
      " #   Column            Non-Null Count  Dtype  \n",
      "---  ------            --------------  -----  \n",
      " 0   car_ID            205 non-null    int64  \n",
      " 1   symboling         205 non-null    int64  \n",
      " 2   CarName           205 non-null    object \n",
      " 3   fueltype          205 non-null    int32  \n",
      " 4   aspiration        205 non-null    int32  \n",
      " 5   doornumber        205 non-null    int64  \n",
      " 6   carbody           205 non-null    int32  \n",
      " 7   drivewheel        205 non-null    int32  \n",
      " 8   enginelocation    205 non-null    int32  \n",
      " 9   wheelbase         205 non-null    float64\n",
      " 10  carlength         205 non-null    float64\n",
      " 11  carwidth          205 non-null    float64\n",
      " 12  carheight         205 non-null    float64\n",
      " 13  curbweight        205 non-null    int64  \n",
      " 14  enginetype        205 non-null    object \n",
      " 15  cylindernumber    205 non-null    object \n",
      " 16  enginesize        205 non-null    int64  \n",
      " 17  fuelsystem        205 non-null    int32  \n",
      " 18  boreratio         205 non-null    float64\n",
      " 19  stroke            205 non-null    float64\n",
      " 20  compressionratio  205 non-null    float64\n",
      " 21  horsepower        205 non-null    int64  \n",
      " 22  peakrpm           205 non-null    int64  \n",
      " 23  citympg           205 non-null    int64  \n",
      " 24  highwaympg        205 non-null    int64  \n",
      " 25  price             205 non-null    float64\n",
      "dtypes: float64(8), int32(6), int64(9), object(3)\n",
      "memory usage: 37.0+ KB\n"
     ]
    }
   ],
   "source": [
    "car_price.info()"
   ]
  },
  {
   "cell_type": "markdown",
   "metadata": {},
   "source": [
    "# check correlation between columns"
   ]
  },
  {
   "cell_type": "code",
   "execution_count": 1,
   "metadata": {},
   "outputs": [
    {
     "ename": "NameError",
     "evalue": "name 'car_price' is not defined",
     "output_type": "error",
     "traceback": [
      "\u001b[1;31m---------------------------------------------------------------------------\u001b[0m",
      "\u001b[1;31mNameError\u001b[0m                                 Traceback (most recent call last)",
      "\u001b[1;32m<ipython-input-1-0abe48740cf0>\u001b[0m in \u001b[0;36m<module>\u001b[1;34m\u001b[0m\n\u001b[1;32m----> 1\u001b[1;33m \u001b[0mcorrmat\u001b[0m \u001b[1;33m=\u001b[0m \u001b[0mcar_price\u001b[0m\u001b[1;33m.\u001b[0m\u001b[0mcorr\u001b[0m\u001b[1;33m(\u001b[0m\u001b[1;33m)\u001b[0m\u001b[1;33m\u001b[0m\u001b[1;33m\u001b[0m\u001b[0m\n\u001b[0m\u001b[0;32m      2\u001b[0m \u001b[0mtop_corr_features\u001b[0m \u001b[1;33m=\u001b[0m \u001b[0mcorrmat\u001b[0m\u001b[1;33m.\u001b[0m\u001b[0mindex\u001b[0m\u001b[1;33m\u001b[0m\u001b[1;33m\u001b[0m\u001b[0m\n\u001b[0;32m      3\u001b[0m \u001b[0mplt\u001b[0m\u001b[1;33m.\u001b[0m\u001b[0mfigure\u001b[0m\u001b[1;33m(\u001b[0m\u001b[0mfigsize\u001b[0m \u001b[1;33m=\u001b[0m \u001b[1;33m(\u001b[0m\u001b[1;36m20\u001b[0m\u001b[1;33m,\u001b[0m\u001b[1;36m20\u001b[0m\u001b[1;33m)\u001b[0m\u001b[1;33m)\u001b[0m\u001b[1;33m\u001b[0m\u001b[1;33m\u001b[0m\u001b[0m\n\u001b[0;32m      4\u001b[0m \u001b[0mg\u001b[0m \u001b[1;33m=\u001b[0m \u001b[0msns\u001b[0m\u001b[1;33m.\u001b[0m\u001b[0mheatmap\u001b[0m\u001b[1;33m(\u001b[0m\u001b[0mcar_price\u001b[0m\u001b[1;33m[\u001b[0m\u001b[0mtop_corr_features\u001b[0m\u001b[1;33m]\u001b[0m\u001b[1;33m.\u001b[0m\u001b[0mcorr\u001b[0m\u001b[1;33m(\u001b[0m\u001b[1;33m)\u001b[0m\u001b[1;33m,\u001b[0m\u001b[0mannot\u001b[0m \u001b[1;33m=\u001b[0m \u001b[1;32mTrue\u001b[0m\u001b[1;33m,\u001b[0m \u001b[0mcmap\u001b[0m\u001b[1;33m=\u001b[0m\u001b[1;34m'RdYlGn'\u001b[0m\u001b[1;33m)\u001b[0m\u001b[1;33m\u001b[0m\u001b[1;33m\u001b[0m\u001b[0m\n",
      "\u001b[1;31mNameError\u001b[0m: name 'car_price' is not defined"
     ]
    }
   ],
   "source": [
    "corrmat = car_price.corr()\n",
    "top_corr_features = corrmat.index\n",
    "plt.figure(figsize = (20,20))\n",
    "g = sns.heatmap(car_price[top_corr_features].corr(),annot = True, cmap='RdYlGn')"
   ]
  },
  {
   "cell_type": "markdown",
   "metadata": {},
   "source": [
    "## Select the columns for model input "
   ]
  },
  {
   "cell_type": "code",
   "execution_count": 11,
   "metadata": {},
   "outputs": [],
   "source": [
    "data = car_price[['horsepower', 'boreratio', 'enginesize', 'curbweight', 'carwidth', \n",
    "                  'carlength','wheelbase','drivewheel','price','enginelocation']]"
   ]
  },
  {
   "cell_type": "code",
   "execution_count": 12,
   "metadata": {},
   "outputs": [
    {
     "data": {
      "text/html": [
       "<div>\n",
       "<style scoped>\n",
       "    .dataframe tbody tr th:only-of-type {\n",
       "        vertical-align: middle;\n",
       "    }\n",
       "\n",
       "    .dataframe tbody tr th {\n",
       "        vertical-align: top;\n",
       "    }\n",
       "\n",
       "    .dataframe thead th {\n",
       "        text-align: right;\n",
       "    }\n",
       "</style>\n",
       "<table border=\"1\" class=\"dataframe\">\n",
       "  <thead>\n",
       "    <tr style=\"text-align: right;\">\n",
       "      <th></th>\n",
       "      <th>horsepower</th>\n",
       "      <th>boreratio</th>\n",
       "      <th>enginesize</th>\n",
       "      <th>curbweight</th>\n",
       "      <th>carwidth</th>\n",
       "      <th>carlength</th>\n",
       "      <th>wheelbase</th>\n",
       "      <th>drivewheel</th>\n",
       "      <th>price</th>\n",
       "      <th>enginelocation</th>\n",
       "    </tr>\n",
       "  </thead>\n",
       "  <tbody>\n",
       "    <tr>\n",
       "      <th>0</th>\n",
       "      <td>111</td>\n",
       "      <td>3.47</td>\n",
       "      <td>130</td>\n",
       "      <td>2548</td>\n",
       "      <td>64.1</td>\n",
       "      <td>168.8</td>\n",
       "      <td>88.6</td>\n",
       "      <td>2</td>\n",
       "      <td>13495.0</td>\n",
       "      <td>0</td>\n",
       "    </tr>\n",
       "    <tr>\n",
       "      <th>1</th>\n",
       "      <td>111</td>\n",
       "      <td>3.47</td>\n",
       "      <td>130</td>\n",
       "      <td>2548</td>\n",
       "      <td>64.1</td>\n",
       "      <td>168.8</td>\n",
       "      <td>88.6</td>\n",
       "      <td>2</td>\n",
       "      <td>16500.0</td>\n",
       "      <td>0</td>\n",
       "    </tr>\n",
       "    <tr>\n",
       "      <th>2</th>\n",
       "      <td>154</td>\n",
       "      <td>2.68</td>\n",
       "      <td>152</td>\n",
       "      <td>2823</td>\n",
       "      <td>65.5</td>\n",
       "      <td>171.2</td>\n",
       "      <td>94.5</td>\n",
       "      <td>2</td>\n",
       "      <td>16500.0</td>\n",
       "      <td>0</td>\n",
       "    </tr>\n",
       "    <tr>\n",
       "      <th>3</th>\n",
       "      <td>102</td>\n",
       "      <td>3.19</td>\n",
       "      <td>109</td>\n",
       "      <td>2337</td>\n",
       "      <td>66.2</td>\n",
       "      <td>176.6</td>\n",
       "      <td>99.8</td>\n",
       "      <td>1</td>\n",
       "      <td>13950.0</td>\n",
       "      <td>0</td>\n",
       "    </tr>\n",
       "    <tr>\n",
       "      <th>4</th>\n",
       "      <td>115</td>\n",
       "      <td>3.19</td>\n",
       "      <td>136</td>\n",
       "      <td>2824</td>\n",
       "      <td>66.4</td>\n",
       "      <td>176.6</td>\n",
       "      <td>99.4</td>\n",
       "      <td>0</td>\n",
       "      <td>17450.0</td>\n",
       "      <td>0</td>\n",
       "    </tr>\n",
       "  </tbody>\n",
       "</table>\n",
       "</div>"
      ],
      "text/plain": [
       "   horsepower  boreratio  enginesize  curbweight  carwidth  carlength  \\\n",
       "0         111       3.47         130        2548      64.1      168.8   \n",
       "1         111       3.47         130        2548      64.1      168.8   \n",
       "2         154       2.68         152        2823      65.5      171.2   \n",
       "3         102       3.19         109        2337      66.2      176.6   \n",
       "4         115       3.19         136        2824      66.4      176.6   \n",
       "\n",
       "   wheelbase  drivewheel    price  enginelocation  \n",
       "0       88.6           2  13495.0               0  \n",
       "1       88.6           2  16500.0               0  \n",
       "2       94.5           2  16500.0               0  \n",
       "3       99.8           1  13950.0               0  \n",
       "4       99.4           0  17450.0               0  "
      ]
     },
     "execution_count": 12,
     "metadata": {},
     "output_type": "execute_result"
    }
   ],
   "source": [
    "data.head()"
   ]
  },
  {
   "cell_type": "markdown",
   "metadata": {},
   "source": [
    "## check the data type of columns "
   ]
  },
  {
   "cell_type": "code",
   "execution_count": 13,
   "metadata": {},
   "outputs": [
    {
     "name": "stdout",
     "output_type": "stream",
     "text": [
      "<class 'pandas.core.frame.DataFrame'>\n",
      "RangeIndex: 205 entries, 0 to 204\n",
      "Data columns (total 10 columns):\n",
      " #   Column          Non-Null Count  Dtype  \n",
      "---  ------          --------------  -----  \n",
      " 0   horsepower      205 non-null    int64  \n",
      " 1   boreratio       205 non-null    float64\n",
      " 2   enginesize      205 non-null    int64  \n",
      " 3   curbweight      205 non-null    int64  \n",
      " 4   carwidth        205 non-null    float64\n",
      " 5   carlength       205 non-null    float64\n",
      " 6   wheelbase       205 non-null    float64\n",
      " 7   drivewheel      205 non-null    int32  \n",
      " 8   price           205 non-null    float64\n",
      " 9   enginelocation  205 non-null    int32  \n",
      "dtypes: float64(5), int32(2), int64(3)\n",
      "memory usage: 14.5 KB\n"
     ]
    }
   ],
   "source": [
    "data.info()"
   ]
  },
  {
   "cell_type": "markdown",
   "metadata": {},
   "source": [
    "# split the data for training and testing"
   ]
  },
  {
   "cell_type": "code",
   "execution_count": 57,
   "metadata": {},
   "outputs": [],
   "source": [
    "x = data.loc[:,data.columns != 'price']\n",
    "y = data.loc[:, data.columns == 'price']\n",
    "\n",
    "from sklearn.model_selection import train_test_split\n",
    "train_data, test_data, train_target, test_target = train_test_split(x, y, test_size = 0.30, random_state=32)"
   ]
  },
  {
   "cell_type": "code",
   "execution_count": 58,
   "metadata": {},
   "outputs": [
    {
     "name": "stdout",
     "output_type": "stream",
     "text": [
      "shape of x_train --> (143, 9) \n",
      "shape of x_test --> (62, 9)\n"
     ]
    }
   ],
   "source": [
    "print(f'shape of x_train --> {train_data.shape} \\nshape of x_test --> {test_data.shape}')"
   ]
  },
  {
   "cell_type": "markdown",
   "metadata": {},
   "source": [
    "# convert into tensor"
   ]
  },
  {
   "cell_type": "code",
   "execution_count": 59,
   "metadata": {},
   "outputs": [],
   "source": [
    "train_data = np.asarray(train_data).astype(\"float32\")\n",
    "test_data = np.asarray(test_data).astype(\"float32\")\n",
    "train_target = np.asarray(train_target).astype(\"float32\")\n",
    "test_target = np.asarray(test_target).astype(\"float32\")"
   ]
  },
  {
   "cell_type": "markdown",
   "metadata": {},
   "source": [
    "# Preparing the data\n",
    "\n",
    "## Normalization"
   ]
  },
  {
   "cell_type": "code",
   "execution_count": 60,
   "metadata": {},
   "outputs": [],
   "source": [
    "mean = train_data.mean(axis=0)\n",
    "train_data -= mean\n",
    "std = train_data.std(axis=0)\n",
    "train_data /= std\n",
    "\n",
    "test_data -=mean\n",
    "test_data /= std"
   ]
  },
  {
   "cell_type": "code",
   "execution_count": 61,
   "metadata": {},
   "outputs": [],
   "source": [
    "y_mean = train_target.mean(axis=0)\n",
    "train_target-= y_mean\n",
    "y_std = train_target.std(axis=0)\n",
    "train_target /= y_std\n",
    "\n",
    "test_target -= y_mean\n",
    "test_target /= y_std"
   ]
  },
  {
   "cell_type": "markdown",
   "metadata": {},
   "source": [
    "# Make a model:"
   ]
  },
  {
   "cell_type": "code",
   "execution_count": 62,
   "metadata": {},
   "outputs": [],
   "source": [
    "def build_model():\n",
    "    model = Sequential()\n",
    "    model.add(Dense(10, activation = 'relu', input_shape = (train_data.shape[1],)))\n",
    "    model.add(Dense(8, activation = 'relu'))\n",
    "    model.add(Dense(6, activation = 'relu'))\n",
    "    model.add(Dense(1))\n",
    "    model.compile(optimizer = 'rmsprop', loss = 'mse', metrics = ['mae'])\n",
    "    return model"
   ]
  },
  {
   "cell_type": "markdown",
   "metadata": {},
   "source": [
    "# K-fold validation"
   ]
  },
  {
   "cell_type": "code",
   "execution_count": 63,
   "metadata": {},
   "outputs": [
    {
     "name": "stdout",
     "output_type": "stream",
     "text": [
      "processing fold # 0\n",
      "Epoch 1/30\n",
      "7/7 [==============================] - 1s 30ms/step - loss: 0.6448 - mae: 0.7331 - val_loss: 0.5105 - val_mae: 0.5766\n",
      "Epoch 2/30\n",
      "7/7 [==============================] - 0s 6ms/step - loss: 0.5242 - mae: 0.6558 - val_loss: 0.4751 - val_mae: 0.5605\n",
      "Epoch 3/30\n",
      "7/7 [==============================] - 0s 6ms/step - loss: 0.4653 - mae: 0.6153 - val_loss: 0.4511 - val_mae: 0.5526\n",
      "Epoch 4/30\n",
      "7/7 [==============================] - 0s 6ms/step - loss: 0.4244 - mae: 0.5850 - val_loss: 0.4355 - val_mae: 0.5493\n",
      "Epoch 5/30\n",
      "7/7 [==============================] - 0s 6ms/step - loss: 0.3935 - mae: 0.5624 - val_loss: 0.4231 - val_mae: 0.5455\n",
      "Epoch 6/30\n",
      "7/7 [==============================] - 0s 6ms/step - loss: 0.3658 - mae: 0.5427 - val_loss: 0.4166 - val_mae: 0.5439\n",
      "Epoch 7/30\n",
      "7/7 [==============================] - 0s 6ms/step - loss: 0.3406 - mae: 0.5221 - val_loss: 0.4088 - val_mae: 0.5405\n",
      "Epoch 8/30\n",
      "7/7 [==============================] - 0s 6ms/step - loss: 0.3185 - mae: 0.5068 - val_loss: 0.4011 - val_mae: 0.5369\n",
      "Epoch 9/30\n",
      "7/7 [==============================] - 0s 6ms/step - loss: 0.2988 - mae: 0.4890 - val_loss: 0.3905 - val_mae: 0.5325\n",
      "Epoch 10/30\n",
      "7/7 [==============================] - 0s 6ms/step - loss: 0.2796 - mae: 0.4739 - val_loss: 0.3830 - val_mae: 0.5276\n",
      "Epoch 11/30\n",
      "7/7 [==============================] - 0s 6ms/step - loss: 0.2612 - mae: 0.4584 - val_loss: 0.3739 - val_mae: 0.5219\n",
      "Epoch 12/30\n",
      "7/7 [==============================] - 0s 6ms/step - loss: 0.2456 - mae: 0.4430 - val_loss: 0.3714 - val_mae: 0.5169\n",
      "Epoch 13/30\n",
      "7/7 [==============================] - 0s 6ms/step - loss: 0.2277 - mae: 0.4233 - val_loss: 0.3668 - val_mae: 0.5107\n",
      "Epoch 14/30\n",
      "7/7 [==============================] - 0s 6ms/step - loss: 0.2129 - mae: 0.4065 - val_loss: 0.3642 - val_mae: 0.5048\n",
      "Epoch 15/30\n",
      "7/7 [==============================] - 0s 6ms/step - loss: 0.1976 - mae: 0.3863 - val_loss: 0.3587 - val_mae: 0.4980\n",
      "Epoch 16/30\n",
      "7/7 [==============================] - 0s 6ms/step - loss: 0.1844 - mae: 0.3673 - val_loss: 0.3538 - val_mae: 0.4903\n",
      "Epoch 17/30\n",
      "7/7 [==============================] - 0s 6ms/step - loss: 0.1707 - mae: 0.3499 - val_loss: 0.3498 - val_mae: 0.4813\n",
      "Epoch 18/30\n",
      "7/7 [==============================] - 0s 6ms/step - loss: 0.1594 - mae: 0.3328 - val_loss: 0.3421 - val_mae: 0.4709\n",
      "Epoch 19/30\n",
      "7/7 [==============================] - 0s 6ms/step - loss: 0.1458 - mae: 0.3178 - val_loss: 0.3455 - val_mae: 0.4623\n",
      "Epoch 20/30\n",
      "7/7 [==============================] - 0s 7ms/step - loss: 0.1360 - mae: 0.2968 - val_loss: 0.3360 - val_mae: 0.4508\n",
      "Epoch 21/30\n",
      "7/7 [==============================] - 0s 6ms/step - loss: 0.1267 - mae: 0.2809 - val_loss: 0.3316 - val_mae: 0.4419\n",
      "Epoch 22/30\n",
      "7/7 [==============================] - 0s 6ms/step - loss: 0.1199 - mae: 0.2720 - val_loss: 0.3314 - val_mae: 0.4341\n",
      "Epoch 23/30\n",
      "7/7 [==============================] - 0s 6ms/step - loss: 0.1097 - mae: 0.2546 - val_loss: 0.3300 - val_mae: 0.4275\n",
      "Epoch 24/30\n",
      "7/7 [==============================] - 0s 6ms/step - loss: 0.1038 - mae: 0.2423 - val_loss: 0.3309 - val_mae: 0.4205\n",
      "Epoch 25/30\n",
      "7/7 [==============================] - 0s 6ms/step - loss: 0.0983 - mae: 0.2330 - val_loss: 0.3374 - val_mae: 0.4141\n",
      "Epoch 26/30\n",
      "7/7 [==============================] - 0s 6ms/step - loss: 0.0943 - mae: 0.2212 - val_loss: 0.3370 - val_mae: 0.4133\n",
      "Epoch 27/30\n",
      "7/7 [==============================] - 0s 6ms/step - loss: 0.0904 - mae: 0.2140 - val_loss: 0.3443 - val_mae: 0.4155\n",
      "Epoch 28/30\n",
      "7/7 [==============================] - 0s 6ms/step - loss: 0.0854 - mae: 0.2030 - val_loss: 0.3396 - val_mae: 0.4144\n",
      "Epoch 29/30\n",
      "7/7 [==============================] - 0s 6ms/step - loss: 0.0844 - mae: 0.2020 - val_loss: 0.3373 - val_mae: 0.4161\n",
      "Epoch 30/30\n",
      "7/7 [==============================] - 0s 6ms/step - loss: 0.0801 - mae: 0.1965 - val_loss: 0.3459 - val_mae: 0.4169\n",
      "processing fold # 1\n",
      "Epoch 1/30\n",
      "7/7 [==============================] - 1s 33ms/step - loss: 0.5791 - mae: 0.6197 - val_loss: 0.5865 - val_mae: 0.6065\n",
      "Epoch 2/30\n",
      "7/7 [==============================] - 0s 6ms/step - loss: 0.4841 - mae: 0.5583 - val_loss: 0.5209 - val_mae: 0.5655\n",
      "Epoch 3/30\n",
      "7/7 [==============================] - 0s 6ms/step - loss: 0.4330 - mae: 0.5232 - val_loss: 0.4730 - val_mae: 0.5373\n",
      "Epoch 4/30\n",
      "7/7 [==============================] - 0s 6ms/step - loss: 0.3895 - mae: 0.4942 - val_loss: 0.4227 - val_mae: 0.5080\n",
      "Epoch 5/30\n",
      "7/7 [==============================] - 0s 6ms/step - loss: 0.3495 - mae: 0.4632 - val_loss: 0.3798 - val_mae: 0.4806\n",
      "Epoch 6/30\n",
      "7/7 [==============================] - 0s 6ms/step - loss: 0.3167 - mae: 0.4348 - val_loss: 0.3418 - val_mae: 0.4528\n",
      "Epoch 7/30\n",
      "7/7 [==============================] - 0s 6ms/step - loss: 0.2887 - mae: 0.4078 - val_loss: 0.3056 - val_mae: 0.4255\n",
      "Epoch 8/30\n",
      "7/7 [==============================] - 0s 6ms/step - loss: 0.2650 - mae: 0.3832 - val_loss: 0.2720 - val_mae: 0.3987\n",
      "Epoch 9/30\n",
      "7/7 [==============================] - 0s 6ms/step - loss: 0.2456 - mae: 0.3618 - val_loss: 0.2477 - val_mae: 0.3755\n",
      "Epoch 10/30\n",
      "7/7 [==============================] - 0s 6ms/step - loss: 0.2334 - mae: 0.3438 - val_loss: 0.2309 - val_mae: 0.3567\n",
      "Epoch 11/30\n",
      "7/7 [==============================] - 0s 6ms/step - loss: 0.2240 - mae: 0.3306 - val_loss: 0.2159 - val_mae: 0.3421\n",
      "Epoch 12/30\n",
      "7/7 [==============================] - 0s 6ms/step - loss: 0.2181 - mae: 0.3204 - val_loss: 0.2074 - val_mae: 0.3351\n",
      "Epoch 13/30\n",
      "7/7 [==============================] - 0s 6ms/step - loss: 0.2119 - mae: 0.3158 - val_loss: 0.2001 - val_mae: 0.3297\n",
      "Epoch 14/30\n",
      "7/7 [==============================] - 0s 6ms/step - loss: 0.2065 - mae: 0.3130 - val_loss: 0.1916 - val_mae: 0.3204\n",
      "Epoch 15/30\n",
      "7/7 [==============================] - 0s 6ms/step - loss: 0.2024 - mae: 0.3085 - val_loss: 0.1860 - val_mae: 0.3147\n",
      "Epoch 16/30\n",
      "7/7 [==============================] - 0s 7ms/step - loss: 0.1988 - mae: 0.3021 - val_loss: 0.1801 - val_mae: 0.3074\n",
      "Epoch 17/30\n",
      "7/7 [==============================] - 0s 7ms/step - loss: 0.1935 - mae: 0.2995 - val_loss: 0.1757 - val_mae: 0.3011\n",
      "Epoch 18/30\n",
      "7/7 [==============================] - 0s 8ms/step - loss: 0.1904 - mae: 0.2936 - val_loss: 0.1717 - val_mae: 0.2987\n",
      "Epoch 19/30\n",
      "7/7 [==============================] - 0s 9ms/step - loss: 0.1863 - mae: 0.2911 - val_loss: 0.1669 - val_mae: 0.2919\n",
      "Epoch 20/30\n",
      "7/7 [==============================] - 0s 7ms/step - loss: 0.1833 - mae: 0.2924 - val_loss: 0.1636 - val_mae: 0.2850\n",
      "Epoch 21/30\n",
      "7/7 [==============================] - 0s 6ms/step - loss: 0.1805 - mae: 0.2883 - val_loss: 0.1615 - val_mae: 0.2810\n",
      "Epoch 22/30\n",
      "7/7 [==============================] - 0s 6ms/step - loss: 0.1770 - mae: 0.2841 - val_loss: 0.1588 - val_mae: 0.2773\n",
      "Epoch 23/30\n",
      "7/7 [==============================] - 0s 7ms/step - loss: 0.1745 - mae: 0.2805 - val_loss: 0.1560 - val_mae: 0.2750\n",
      "Epoch 24/30\n",
      "7/7 [==============================] - 0s 7ms/step - loss: 0.1729 - mae: 0.2812 - val_loss: 0.1542 - val_mae: 0.2721\n",
      "Epoch 25/30\n",
      "7/7 [==============================] - 0s 6ms/step - loss: 0.1711 - mae: 0.2786 - val_loss: 0.1526 - val_mae: 0.2705\n",
      "Epoch 26/30\n",
      "7/7 [==============================] - 0s 7ms/step - loss: 0.1678 - mae: 0.2741 - val_loss: 0.1493 - val_mae: 0.2673\n",
      "Epoch 27/30\n",
      "7/7 [==============================] - 0s 8ms/step - loss: 0.1657 - mae: 0.2739 - val_loss: 0.1474 - val_mae: 0.2646\n",
      "Epoch 28/30\n",
      "7/7 [==============================] - 0s 8ms/step - loss: 0.1618 - mae: 0.2724 - val_loss: 0.1459 - val_mae: 0.2617\n",
      "Epoch 29/30\n",
      "7/7 [==============================] - 0s 8ms/step - loss: 0.1604 - mae: 0.2679 - val_loss: 0.1439 - val_mae: 0.2589\n",
      "Epoch 30/30\n",
      "7/7 [==============================] - 0s 9ms/step - loss: 0.1588 - mae: 0.2693 - val_loss: 0.1425 - val_mae: 0.2555\n",
      "processing fold # 2\n",
      "Epoch 1/30\n",
      "7/7 [==============================] - 1s 36ms/step - loss: 1.1152 - mae: 0.7562 - val_loss: 1.6319 - val_mae: 0.9512\n",
      "Epoch 2/30\n",
      "7/7 [==============================] - 0s 6ms/step - loss: 0.9952 - mae: 0.7048 - val_loss: 1.4879 - val_mae: 0.8944\n",
      "Epoch 3/30\n",
      "7/7 [==============================] - 0s 6ms/step - loss: 0.9088 - mae: 0.6634 - val_loss: 1.3713 - val_mae: 0.8412\n",
      "Epoch 4/30\n",
      "7/7 [==============================] - 0s 6ms/step - loss: 0.8337 - mae: 0.6239 - val_loss: 1.2659 - val_mae: 0.7839\n",
      "Epoch 5/30\n",
      "7/7 [==============================] - 0s 6ms/step - loss: 0.7681 - mae: 0.5825 - val_loss: 1.1646 - val_mae: 0.7271\n",
      "Epoch 6/30\n",
      "7/7 [==============================] - 0s 6ms/step - loss: 0.7086 - mae: 0.5398 - val_loss: 1.0983 - val_mae: 0.6845\n",
      "Epoch 7/30\n",
      "7/7 [==============================] - 0s 6ms/step - loss: 0.6651 - mae: 0.5095 - val_loss: 1.0437 - val_mae: 0.6529\n",
      "Epoch 8/30\n",
      "7/7 [==============================] - 0s 6ms/step - loss: 0.6304 - mae: 0.4900 - val_loss: 0.9942 - val_mae: 0.6193\n",
      "Epoch 9/30\n",
      "7/7 [==============================] - 0s 6ms/step - loss: 0.6002 - mae: 0.4693 - val_loss: 0.9467 - val_mae: 0.5952\n",
      "Epoch 10/30\n",
      "7/7 [==============================] - 0s 6ms/step - loss: 0.5708 - mae: 0.4545 - val_loss: 0.9011 - val_mae: 0.5720\n",
      "Epoch 11/30\n",
      "7/7 [==============================] - 0s 6ms/step - loss: 0.5436 - mae: 0.4431 - val_loss: 0.8550 - val_mae: 0.5518\n",
      "Epoch 12/30\n",
      "7/7 [==============================] - 0s 6ms/step - loss: 0.5148 - mae: 0.4300 - val_loss: 0.7948 - val_mae: 0.5382\n",
      "Epoch 13/30\n",
      "7/7 [==============================] - 0s 6ms/step - loss: 0.4845 - mae: 0.4194 - val_loss: 0.7509 - val_mae: 0.5214\n",
      "Epoch 14/30\n",
      "7/7 [==============================] - 0s 6ms/step - loss: 0.4601 - mae: 0.4077 - val_loss: 0.7104 - val_mae: 0.5049\n",
      "Epoch 15/30\n",
      "7/7 [==============================] - 0s 7ms/step - loss: 0.4363 - mae: 0.3986 - val_loss: 0.6673 - val_mae: 0.4920\n",
      "Epoch 16/30\n",
      "7/7 [==============================] - 0s 6ms/step - loss: 0.4107 - mae: 0.3887 - val_loss: 0.6276 - val_mae: 0.4791\n",
      "Epoch 17/30\n",
      "7/7 [==============================] - 0s 6ms/step - loss: 0.3864 - mae: 0.3785 - val_loss: 0.5877 - val_mae: 0.4601\n",
      "Epoch 18/30\n",
      "7/7 [==============================] - 0s 6ms/step - loss: 0.3635 - mae: 0.3714 - val_loss: 0.5450 - val_mae: 0.4404\n",
      "Epoch 19/30\n",
      "7/7 [==============================] - 0s 6ms/step - loss: 0.3394 - mae: 0.3621 - val_loss: 0.5053 - val_mae: 0.4344\n",
      "Epoch 20/30\n",
      "7/7 [==============================] - 0s 6ms/step - loss: 0.3192 - mae: 0.3528 - val_loss: 0.4719 - val_mae: 0.4132\n",
      "Epoch 21/30\n",
      "7/7 [==============================] - 0s 6ms/step - loss: 0.3006 - mae: 0.3475 - val_loss: 0.4400 - val_mae: 0.4032\n",
      "Epoch 22/30\n",
      "7/7 [==============================] - 0s 6ms/step - loss: 0.2835 - mae: 0.3393 - val_loss: 0.4068 - val_mae: 0.3840\n",
      "Epoch 23/30\n",
      "7/7 [==============================] - 0s 6ms/step - loss: 0.2685 - mae: 0.3334 - val_loss: 0.3766 - val_mae: 0.3673\n",
      "Epoch 24/30\n",
      "7/7 [==============================] - 0s 6ms/step - loss: 0.2556 - mae: 0.3286 - val_loss: 0.3540 - val_mae: 0.3635\n",
      "Epoch 25/30\n",
      "7/7 [==============================] - 0s 6ms/step - loss: 0.2422 - mae: 0.3220 - val_loss: 0.3305 - val_mae: 0.3629\n",
      "Epoch 26/30\n",
      "7/7 [==============================] - 0s 6ms/step - loss: 0.2308 - mae: 0.3167 - val_loss: 0.3106 - val_mae: 0.3558\n",
      "Epoch 27/30\n",
      "7/7 [==============================] - 0s 6ms/step - loss: 0.2234 - mae: 0.3133 - val_loss: 0.2933 - val_mae: 0.3475\n",
      "Epoch 28/30\n",
      "7/7 [==============================] - 0s 6ms/step - loss: 0.2144 - mae: 0.3083 - val_loss: 0.2758 - val_mae: 0.3258\n",
      "Epoch 29/30\n",
      "7/7 [==============================] - 0s 6ms/step - loss: 0.2071 - mae: 0.3040 - val_loss: 0.2616 - val_mae: 0.3328\n",
      "Epoch 30/30\n",
      "7/7 [==============================] - 0s 6ms/step - loss: 0.1999 - mae: 0.2976 - val_loss: 0.2477 - val_mae: 0.3272\n",
      "processing fold # 3\n",
      "Epoch 1/30\n",
      "7/7 [==============================] - 1s 31ms/step - loss: 0.9548 - mae: 0.8195 - val_loss: 0.8624 - val_mae: 0.7902\n",
      "Epoch 2/30\n",
      "7/7 [==============================] - 0s 6ms/step - loss: 0.7864 - mae: 0.7468 - val_loss: 0.7258 - val_mae: 0.7314\n",
      "Epoch 3/30\n",
      "7/7 [==============================] - 0s 6ms/step - loss: 0.6915 - mae: 0.7069 - val_loss: 0.6347 - val_mae: 0.6881\n",
      "Epoch 4/30\n",
      "7/7 [==============================] - 0s 6ms/step - loss: 0.6239 - mae: 0.6726 - val_loss: 0.5669 - val_mae: 0.6540\n",
      "Epoch 5/30\n",
      "7/7 [==============================] - 0s 6ms/step - loss: 0.5728 - mae: 0.6481 - val_loss: 0.5125 - val_mae: 0.6243\n",
      "Epoch 6/30\n",
      "7/7 [==============================] - 0s 6ms/step - loss: 0.5347 - mae: 0.6261 - val_loss: 0.4671 - val_mae: 0.5989\n",
      "Epoch 7/30\n",
      "7/7 [==============================] - 0s 7ms/step - loss: 0.4992 - mae: 0.6043 - val_loss: 0.4314 - val_mae: 0.5783\n",
      "Epoch 8/30\n",
      "7/7 [==============================] - 0s 6ms/step - loss: 0.4734 - mae: 0.5879 - val_loss: 0.4023 - val_mae: 0.5594\n",
      "Epoch 9/30\n",
      "7/7 [==============================] - 0s 6ms/step - loss: 0.4469 - mae: 0.5708 - val_loss: 0.3781 - val_mae: 0.5428\n",
      "Epoch 10/30\n",
      "7/7 [==============================] - 0s 6ms/step - loss: 0.4253 - mae: 0.5573 - val_loss: 0.3509 - val_mae: 0.5244\n",
      "Epoch 11/30\n",
      "7/7 [==============================] - 0s 6ms/step - loss: 0.4038 - mae: 0.5402 - val_loss: 0.3312 - val_mae: 0.5095\n",
      "Epoch 12/30\n",
      "7/7 [==============================] - 0s 6ms/step - loss: 0.3840 - mae: 0.5247 - val_loss: 0.3137 - val_mae: 0.4970\n",
      "Epoch 13/30\n",
      "7/7 [==============================] - 0s 6ms/step - loss: 0.3623 - mae: 0.5117 - val_loss: 0.2923 - val_mae: 0.4801\n",
      "Epoch 14/30\n",
      "7/7 [==============================] - 0s 6ms/step - loss: 0.3423 - mae: 0.4957 - val_loss: 0.2726 - val_mae: 0.4637\n",
      "Epoch 15/30\n",
      "7/7 [==============================] - 0s 6ms/step - loss: 0.3273 - mae: 0.4838 - val_loss: 0.2493 - val_mae: 0.4424\n",
      "Epoch 16/30\n",
      "7/7 [==============================] - 0s 6ms/step - loss: 0.3074 - mae: 0.4647 - val_loss: 0.2261 - val_mae: 0.4194\n",
      "Epoch 17/30\n",
      "7/7 [==============================] - 0s 6ms/step - loss: 0.2928 - mae: 0.4467 - val_loss: 0.2141 - val_mae: 0.4064\n",
      "Epoch 18/30\n",
      "7/7 [==============================] - 0s 6ms/step - loss: 0.2749 - mae: 0.4322 - val_loss: 0.1940 - val_mae: 0.3830\n",
      "Epoch 19/30\n",
      "7/7 [==============================] - 0s 6ms/step - loss: 0.2582 - mae: 0.4113 - val_loss: 0.1802 - val_mae: 0.3645\n",
      "Epoch 20/30\n",
      "7/7 [==============================] - 0s 6ms/step - loss: 0.2432 - mae: 0.3911 - val_loss: 0.1692 - val_mae: 0.3481\n",
      "Epoch 21/30\n",
      "7/7 [==============================] - 0s 6ms/step - loss: 0.2292 - mae: 0.3752 - val_loss: 0.1559 - val_mae: 0.3263\n",
      "Epoch 22/30\n",
      "7/7 [==============================] - 0s 6ms/step - loss: 0.2186 - mae: 0.3579 - val_loss: 0.1413 - val_mae: 0.3025\n",
      "Epoch 23/30\n",
      "7/7 [==============================] - 0s 6ms/step - loss: 0.2072 - mae: 0.3381 - val_loss: 0.1308 - val_mae: 0.2835\n",
      "Epoch 24/30\n",
      "7/7 [==============================] - 0s 6ms/step - loss: 0.1994 - mae: 0.3267 - val_loss: 0.1250 - val_mae: 0.2700\n",
      "Epoch 25/30\n",
      "7/7 [==============================] - 0s 6ms/step - loss: 0.1906 - mae: 0.3110 - val_loss: 0.1218 - val_mae: 0.2617\n",
      "Epoch 26/30\n",
      "7/7 [==============================] - 0s 6ms/step - loss: 0.1875 - mae: 0.3045 - val_loss: 0.1197 - val_mae: 0.2537\n",
      "Epoch 27/30\n",
      "7/7 [==============================] - 0s 6ms/step - loss: 0.1805 - mae: 0.2960 - val_loss: 0.1177 - val_mae: 0.2453\n",
      "Epoch 28/30\n",
      "7/7 [==============================] - 0s 6ms/step - loss: 0.1769 - mae: 0.2906 - val_loss: 0.1189 - val_mae: 0.2438\n",
      "Epoch 29/30\n",
      "7/7 [==============================] - 0s 6ms/step - loss: 0.1729 - mae: 0.2864 - val_loss: 0.1202 - val_mae: 0.2439\n",
      "Epoch 30/30\n",
      "7/7 [==============================] - 0s 7ms/step - loss: 0.1670 - mae: 0.2822 - val_loss: 0.1175 - val_mae: 0.2393\n"
     ]
    }
   ],
   "source": [
    "k = 4\n",
    "num_epochs = 30\n",
    "num_val_samples = len(train_data) // 4 \n",
    "all_mae_histories = []\n",
    "all_train_mae_histories = []\n",
    "# K-fold validation\n",
    "for i in range(k):\n",
    "    print('processing fold #', i)\n",
    "    val_data = train_data[i * num_val_samples: (i + 1) * num_val_samples]\n",
    "    val_target = train_target[i * num_val_samples: (i + 1) * num_val_samples]\n",
    "\n",
    "    partial_train_data = np.concatenate([train_data[:i * num_val_samples],\n",
    "                                         train_data[(i + 1) * num_val_samples:]], axis=0)\n",
    "    partial_train_target = np.concatenate([train_target[:i * num_val_samples], \n",
    "                                            train_target[(i + 1) * num_val_samples:]], axis=0)\n",
    "    \n",
    "    model = build_model()\n",
    "    \n",
    "    history = model.fit(partial_train_data, partial_train_target, \n",
    "                        validation_data=(val_data, val_target),\n",
    "                        epochs=num_epochs, batch_size=16)\n",
    "    \n",
    "    mae_history = history.history['val_mae']\n",
    "    train_mae_history = history.history['mae']\n",
    "    all_mae_histories.append(mae_history)\n",
    "    all_train_mae_histories.append(train_mae_history)"
   ]
  },
  {
   "cell_type": "markdown",
   "metadata": {},
   "source": [
    "# Building the history of successive mean K-fold training and validation scores"
   ]
  },
  {
   "cell_type": "code",
   "execution_count": 64,
   "metadata": {},
   "outputs": [],
   "source": [
    "average_mae_history = [np.mean([x[i] for x in all_mae_histories]) for i in range(num_epochs)]\n",
    "average_train_mae = [np.mean([x[i] for x in all_train_mae_histories]) for i in range(num_epochs)]"
   ]
  },
  {
   "cell_type": "markdown",
   "metadata": {},
   "source": [
    "# Plotting Training and Validation Graph"
   ]
  },
  {
   "cell_type": "code",
   "execution_count": 65,
   "metadata": {},
   "outputs": [
    {
     "data": {
      "image/png": "[encoded data removed]",
      "text/plain": [
       "<Figure size 432x288 with 1 Axes>"
      ]
     },
     "metadata": {
      "needs_background": "light"
     },
     "output_type": "display_data"
    }
   ],
   "source": [
    "plt.plot(range(1, len(average_mae_history) + 1),average_mae_history, label = 'validation mae')\n",
    "plt.plot(range(1, len(average_train_mae) + 1),average_train_mae, label = 'training mae')\n",
    "plt.title(' Training and Validation MAE')\n",
    "plt.xlabel('epochs')\n",
    "plt.ylabel('Validation MAE')\n",
    "plt.legend()\n",
    "plt.grid()\n",
    "plt.show()"
   ]
  },
  {
   "cell_type": "markdown",
   "metadata": {},
   "source": [
    "# Evaluate the model"
   ]
  },
  {
   "cell_type": "code",
   "execution_count": 66,
   "metadata": {},
   "outputs": [
    {
     "name": "stdout",
     "output_type": "stream",
     "text": [
      "2/2 [==============================] - 0s 3ms/step - loss: 0.1635 - mae: 0.2601\n"
     ]
    },
    {
     "data": {
      "text/plain": [
       "[0.1635328233242035, 0.260102242231369]"
      ]
     },
     "execution_count": 66,
     "metadata": {},
     "output_type": "execute_result"
    }
   ],
   "source": [
    "model.evaluate(test_data,test_target)"
   ]
  },
  {
   "cell_type": "markdown",
   "metadata": {},
   "source": [
    "# Predict the price"
   ]
  },
  {
   "cell_type": "code",
   "execution_count": 67,
   "metadata": {},
   "outputs": [],
   "source": [
    "result = model.predict(test_data)"
   ]
  },
  {
   "cell_type": "code",
   "execution_count": 68,
   "metadata": {},
   "outputs": [
    {
     "data": {
      "image/png": "[encoded data removed]",
      "text/plain": [
       "<Figure size 432x288 with 1 Axes>"
      ]
     },
     "metadata": {
      "needs_background": "light"
     },
     "output_type": "display_data"
    }
   ],
   "source": [
    "plt.scatter(test_target, range(62), marker = '*', color = 'green', label = 'Actual price', s = 100)\n",
    "plt.scatter(result, range(62), marker = '^', color = 'yellow', label = 'Predicted Price', s = 100)\n",
    "plt.title('Actual price vs predicted price!')\n",
    "plt.xlabel('prices')\n",
    "plt.ylabel('rows')\n",
    "plt.legend()\n",
    "plt.grid()\n",
    "plt.show()"
   ]
  },
  {
   "cell_type": "code",
   "execution_count": null,
   "metadata": {},
   "outputs": [],
   "source": []
  }
 ],
 "metadata": {
  "kernelspec": {
   "display_name": "Python 3",
   "language": "python",
   "name": "python3"
  },
  "language_info": {
   "codemirror_mode": {
    "name": "ipython",
    "version": 3
   },
   "file_extension": ".py",
   "mimetype": "text/x-python",
   "name": "python",
   "nbconvert_exporter": "python",
   "pygments_lexer": "ipython3",
   "version": "3.8.8"
  }
 },
 "nbformat": 4,
 "nbformat_minor": 2
}
